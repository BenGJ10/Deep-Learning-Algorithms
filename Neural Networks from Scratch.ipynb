{
 "cells": [
  {
   "cell_type": "markdown",
   "id": "d3dff4e4",
   "metadata": {},
   "source": [
    "## Implementing Neural Networks from Scratch"
   ]
  },
  {
   "cell_type": "markdown",
   "id": "1b25d003",
   "metadata": {},
   "source": [
    "### **Part 1: Coding Neurons and Layers**"
   ]
  },
  {
   "cell_type": "code",
   "execution_count": 1,
   "id": "8c4db1ef",
   "metadata": {},
   "outputs": [
    {
     "name": "stdout",
     "output_type": "stream",
     "text": [
      "2.3\n"
     ]
    }
   ],
   "source": [
    "# Coding our first neuron with 3 inputs\n",
    "\n",
    "inputs = [1, 2, 3]\n",
    "weights = [0.2, 0.8, -0.5]\n",
    "bias = 2\n",
    "\n",
    "output = (inputs[0] * weights[0] + inputs[1] * weights[1] + inputs[2] * weights[2] + bias)\n",
    "\n",
    "print(output)"
   ]
  },
  {
   "cell_type": "code",
   "execution_count": 2,
   "id": "5dc9965d",
   "metadata": {},
   "outputs": [
    {
     "name": "stdout",
     "output_type": "stream",
     "text": [
      "4.8\n"
     ]
    }
   ],
   "source": [
    "# Coding our second neuron with 4 inputs\n",
    "\n",
    "inputs = [1.0, 2.0, 3.0, 2.5]\n",
    "weights = [0.2, 0.8, -0.5, 1.0]\n",
    "bias = 2\n",
    "\n",
    "output = (\n",
    "    inputs[0] * weights[0] + inputs[1] * weights[1] +\n",
    "    inputs[2] * weights[2] + inputs[3] * weights[3] + bias\n",
    ")\n",
    "\n",
    "print(output)"
   ]
  },
  {
   "cell_type": "code",
   "execution_count": 3,
   "id": "c50df45e",
   "metadata": {},
   "outputs": [
    {
     "name": "stdout",
     "output_type": "stream",
     "text": [
      "[4.8, 1.21, 2.385]\n"
     ]
    }
   ],
   "source": [
    "# Coding our first layer \n",
    "\n",
    "inputs = [1, 2, 3, 2.5]\n",
    "weights = [[0.2, 0.8, -0.5, 1],\n",
    "           [0.5, -0.91, 0.26, -0.5],\n",
    "           [-0.26, -0.27, 0.17, 0.87]]\n",
    "biases = [2, 3, 0.5]\n",
    "\n",
    "weights1 = weights[0]   # List of all weights associated with 1st Neuron: W11, W12, W13, W14\n",
    "weights2 = weights[1]   # List of all weights associated with 2nd Neuron: W21, W22, W23, W24\n",
    "weights3 = weights[2]   # List of all weights associated with 3rd Neuron: W31, W32, W33, W34\n",
    "\n",
    "output = [\n",
    "    # Neuron 1\n",
    "    inputs[0] * weights1[0] + \n",
    "    inputs[1] * weights1[1] +\n",
    "    inputs[2] * weights1[2] +\n",
    "    inputs[3] * weights1[3] + biases[0],\n",
    "\n",
    "    # Neuron 2\n",
    "    inputs[0] * weights2[0] + \n",
    "    inputs[1] * weights2[1] +\n",
    "    inputs[2] * weights2[2] +\n",
    "    inputs[3] * weights2[3] + biases[1],\n",
    "\n",
    "    # Neuron 3\n",
    "    inputs[0] * weights3[0] + \n",
    "    inputs[1] * weights3[1] +\n",
    "    inputs[2] * weights3[2] +\n",
    "    inputs[3] * weights3[3] + biases[2],\n",
    "]\n",
    "\n",
    "print(output)"
   ]
  },
  {
   "cell_type": "markdown",
   "id": "80aa1337",
   "metadata": {},
   "source": [
    "```\n",
    "output = summation of (inputs * weights) + bias\n",
    "\n",
    "output = (w1x1 + w2x2 + w3x3 + b)\n",
    "```"
   ]
  },
  {
   "cell_type": "code",
   "execution_count": 4,
   "id": "0321da07",
   "metadata": {},
   "outputs": [
    {
     "name": "stdout",
     "output_type": "stream",
     "text": [
      "[4.8, 1.21, 2.385]\n"
     ]
    }
   ],
   "source": [
    "# Using loops for better and easier coding\n",
    "\n",
    "inputs = [1, 2, 3, 2.5]\n",
    "weights = [[0.2, 0.8, -0.5, 1],\n",
    "           [0.5, -0.91, 0.26, -0.5],\n",
    "           [-0.26, -0.27, 0.17, 0.87]]\n",
    "biases = [2, 3, 0.5]\n",
    "\n",
    "layer_outputs = [] # output for current layer\n",
    "\n",
    "for neuron_weights, neuron_bias in zip(weights, biases):\n",
    "    neuron_output = 0 # Placeholder output variable\n",
    "    \n",
    "    for n_input, weight in zip(inputs, neuron_weights):\n",
    "        # Multiply this input by associated weight and add to the neuron's output variable\n",
    "        neuron_output += n_input * weight\n",
    "    neuron_output += neuron_bias # Adding bias \n",
    "    \n",
    "    layer_outputs.append(neuron_output)\n",
    "\n",
    "print(layer_outputs)\n",
    "\n"
   ]
  },
  {
   "cell_type": "markdown",
   "id": "7721aae0",
   "metadata": {},
   "source": [
    "### **Part 2: Using Numpy to Code Neurons and Layers**}"
   ]
  },
  {
   "cell_type": "markdown",
   "id": "77ed54b0",
   "metadata": {},
   "source": [
    "####  Rules of Matrix Multiplication:\n",
    "1. The **number of columns** in the first matrix must equal the **number of rows** in the second matrix.  \n",
    "   - If `A` is (m × n) and `B` is (n × p), then `A × B` is defined.\n",
    "\n",
    "2. The result will be a matrix of size **(m × p)**.\n",
    "\n",
    "3. Each element in the result is computed by the **dot product** of a row from `A` and a column from `B`.\n"
   ]
  },
  {
   "cell_type": "markdown",
   "id": "a419d879",
   "metadata": {},
   "source": [
    "#### Rules of Dot Products\n",
    "\n",
    "1. The dot product between a vector A and vector B,    `np.dot(A, B) == np.dot(B, A)`\n",
    "\n",
    "2. The dot product between a vector A and matrix B,    `np.dot(A, B) != np.dot(B, A)`\n",
    "\n",
    "3. The dot product between a matrix A and matrix B,    `np.dot(A, B) == A X B`"
   ]
  },
  {
   "cell_type": "code",
   "execution_count": 5,
   "id": "d5d7eee5",
   "metadata": {},
   "outputs": [
    {
     "name": "stdout",
     "output_type": "stream",
     "text": [
      "4.8\n"
     ]
    }
   ],
   "source": [
    "# Coding a neuron using NumPy\n",
    "\n",
    "import numpy as np\n",
    "\n",
    "inputs = [1.0, 2.0, 3.0, 2.5]\n",
    "weights = [0.2, 0.8, -0.5, 1.0]\n",
    "bias = 2.0\n",
    "\n",
    "outputs = np.dot(weights, inputs) + bias\n",
    "print(outputs)"
   ]
  },
  {
   "cell_type": "code",
   "execution_count": 6,
   "id": "03df150e",
   "metadata": {},
   "outputs": [
    {
     "name": "stdout",
     "output_type": "stream",
     "text": [
      "[4.8   1.21  2.385]\n"
     ]
    }
   ],
   "source": [
    "# Coding layers using NumPy\n",
    "\n",
    "inputs = [1.0, 2.0, 3.0, 2.5]\n",
    "weights = [\n",
    "    [0.2, 0.8, -0.5, 1],\n",
    "    [0.5, -0.91, 0.26, -0.5],\n",
    "    [-0.26, -0.27, 0.17, 0.87]]\n",
    "biases = [2.0, 3.0, 0.5]\n",
    "\n",
    "# A dot product of a matrix and a vector results in a list of dot products. \n",
    "# The np.dot() method treats the matrix as a list of vectors and performs a dot product of each of those vectors with the other vector\n",
    "\n",
    "layer_outputs = np.dot(weights, inputs) + biases\n",
    "print(layer_outputs)"
   ]
  },
  {
   "cell_type": "code",
   "execution_count": 7,
   "id": "53d5b9b3",
   "metadata": {},
   "outputs": [
    {
     "name": "stdout",
     "output_type": "stream",
     "text": [
      "[[ 4.8    1.21   2.385]\n",
      " [ 8.9   -1.81   0.2  ]\n",
      " [ 1.41   1.051  0.026]]\n"
     ]
    }
   ],
   "source": [
    "# Coding layers of neurons and batch of data using NumPy\n",
    "\n",
    "inputs = [[1.0, 2.0, 3.0, 2.5], \n",
    "          [2.0, 5.0, -1.0, 2.0], \n",
    "          [-1.5, 2.7, 3.3, -0.8]]\n",
    "\n",
    "weights = [[0.2, 0.8, -0.5, 1],\n",
    "           [0.5, -0.91, 0.26, -0.5],\n",
    "           [-0.26, -0.27, 0.17, 0.87]]\n",
    "\n",
    "biases = [2.0, 3.0, 0.5]\n",
    "\n",
    "# We cannot tranpose lists in Python, so we have to convert the lists into an array first.\n",
    "\n",
    "outputs = np.dot(inputs, np.array(weights).T) + biases\n",
    "print(outputs)"
   ]
  },
  {
   "cell_type": "code",
   "execution_count": 8,
   "id": "406cc4be",
   "metadata": {},
   "outputs": [
    {
     "name": "stdout",
     "output_type": "stream",
     "text": [
      "[[ 0.5031  -1.04185 -2.03875]\n",
      " [ 0.2434  -2.7332  -5.7633 ]\n",
      " [-0.99314  1.41254 -0.35655]]\n"
     ]
    }
   ],
   "source": [
    "# 2 layers and batch of data using NumPy\n",
    "\n",
    "inputs = [[1, 2, 3, 2.5],\n",
    "          [2., 5., -1., 2],\n",
    "          [-1.5, 2.7, 3.3, -0.8]]\n",
    "\n",
    "weights1 = [[0.2, 0.8, -0.5, 1],\n",
    "            [0.5, -0.91, 0.26, -0.5],\n",
    "            [-0.26, -0.27, 0.17, 0.87]]\n",
    "\n",
    "biases1 = [2, 3, 0.5]\n",
    "\n",
    "weights2 = [[0.1, -0.14, 0.5],\n",
    "            [-0.5, 0.12, -0.33],\n",
    "            [-0.44, 0.73, -0.13]]\n",
    "\n",
    "biases2 = [-1, 2, -0.5]\n",
    "\n",
    "# Calculating the output of the first layer\n",
    "\n",
    "layer1_outputs = np.dot(inputs, np.array(weights1).T) + biases1\n",
    "\n",
    "# Calculating the output of the second layer\n",
    "\n",
    "layer2_outputs = np.dot(layer1_outputs, np.array(weights2).T) + biases2\n",
    "\n",
    "print(layer2_outputs)"
   ]
  },
  {
   "cell_type": "code",
   "execution_count": 9,
   "id": "3e6e411f",
   "metadata": {},
   "outputs": [
    {
     "data": {
      "image/png": "[encoded data removed]",
      "text/plain": [
       "<Figure size 640x480 with 1 Axes>"
      ]
     },
     "metadata": {},
     "output_type": "display_data"
    }
   ],
   "source": [
    "# Generating Non-Linear Training Data\n",
    "\n",
    "from nnfs.datasets import spiral_data\n",
    "import numpy as np\n",
    "import matplotlib.pyplot as plt\n",
    "import nnfs\n",
    "\n",
    "nnfs.init()\n",
    "X, Y = spiral_data(samples = 100, classes = 3)\n",
    "plt.scatter(X[:, 0], X[:, 1])\n",
    "plt.show()"
   ]
  },
  {
   "cell_type": "code",
   "execution_count": 10,
   "id": "26ae6f59",
   "metadata": {},
   "outputs": [
    {
     "data": {
      "image/png": "[encoded data removed]",
      "text/plain": [
       "<Figure size 640x480 with 1 Axes>"
      ]
     },
     "metadata": {},
     "output_type": "display_data"
    }
   ],
   "source": [
    "plt.scatter(X[:, 0], X[:, 1], c = Y, cmap = 'brg')\n",
    "plt.show()"
   ]
  },
  {
   "cell_type": "markdown",
   "id": "314888b2",
   "metadata": {},
   "source": [
    "The neural network is not aware of the color differences as the data have no class encodings."
   ]
  },
  {
   "cell_type": "markdown",
   "id": "d81f2a58",
   "metadata": {},
   "source": [
    "### **Part 3: Implementing Dense Layer Class**"
   ]
  },
  {
   "cell_type": "markdown",
   "id": "31be7a9f",
   "metadata": {},
   "source": [
    "A `Dense Layer` (Fully Connected Layer) is one of the fundamental building blocks of a neural network.\n",
    "\n",
    "It’s called dense (fully connected) because every neuron in the layer is connected to every neuron in the previous layer."
   ]
  },
  {
   "cell_type": "code",
   "execution_count": 11,
   "id": "46da0f8b",
   "metadata": {},
   "outputs": [],
   "source": [
    "import numpy as np\n",
    "\n",
    "class DenseLayer: # Hidden Layers \n",
    "    # Layer initialization\n",
    "    def __init__(self, n_inputs, n_neurons):\n",
    "        # Initializing weights and biases\n",
    "        self.weights = 0.01 * np.random.randn(n_inputs, n_neurons) # 0.01 is a small value to prevent large initial weights\n",
    "        self.biases = np.zeros((1, n_neurons))\n",
    "        \n",
    "    # Forward Propagation\n",
    "    def forward(self, inputs):\n",
    "        # Calculate output values from inputs, weights and biases\n",
    "        self.output = np.dot(inputs, self.weights) + self.biases\n",
    "        return self.output"
   ]
  },
  {
   "cell_type": "code",
   "execution_count": 12,
   "id": "f560c9cc",
   "metadata": {},
   "outputs": [
    {
     "name": "stdout",
     "output_type": "stream",
     "text": [
      "[[ 0.00000000e+00  0.00000000e+00  0.00000000e+00]\n",
      " [-1.11171044e-04 -5.11007493e-05 -1.12099799e-04]\n",
      " [ 2.99257295e-06 -2.69126613e-04 -1.45165104e-04]\n",
      " [ 8.95101766e-05 -4.30442247e-04 -1.68079801e-04]\n",
      " [-3.49893759e-04 -3.07208364e-04 -4.33002861e-04]]\n"
     ]
    }
   ],
   "source": [
    "# Creating dataset\n",
    "X, Y = spiral_data(samples = 100, classes = 3)\n",
    "\n",
    "# Create Dense layer with 2 input features and 3 output values\n",
    "dense_layer1 = DenseLayer(2, 3)\n",
    "\n",
    "# Performing forward propagation of our training data through this layer\n",
    "dense_layer_output = dense_layer1.forward(X)\n",
    "\n",
    "print(dense_layer_output[:5])\n"
   ]
  },
  {
   "cell_type": "markdown",
   "id": "d822e62f",
   "metadata": {},
   "source": [
    "### Array Summation in Python\n",
    "\n",
    "Suppose we have a 3x3 array `A`: \n",
    "```python\n",
    "A =    [[1, 2, 3], \n",
    "        [4, 5, 6], \n",
    "        [7, 8, 9]]\n",
    "\n",
    "\n",
    "np.sum(A) will return [1 + 2 + 3 + 4 + 5 + 6 + 7 + 8 + 9] = 45 # Total sum of all elements\n",
    "np.sum(A, axis = 0) will return [12, 15, 18]  # Sum along columns\n",
    "np.sum(A, axis = 1) will return [6, 15, 24] # Sum along rows\n",
    "np.sum(A, axis = 2) will return [45]  # Sum along the last\n",
    "\n",
    "np.sum(A, axis = 0, keepdims = True) will return [[12, 15, 18]]  # Sum along columns with dimensions preserved\n",
    "np.sum(A, axis = 1, keepdims = True) will return [[6], [15], [24]]  # Sum along rows with dimensions preserved\n",
    "\n",
    "```\n"
   ]
  },
  {
   "cell_type": "markdown",
   "id": "91b9b567",
   "metadata": {},
   "source": [
    "### Array Broadcasting in Python\n",
    "\n",
    "When performing operations on arrays of different shapes, NumPy automatically expands the smaller array to match the shape of the larger one. This is known as **broadcasting**.\n",
    "Broadcasting allows vectorized operations without the need for explicit loops, making computations faster and code cleaner.\n",
    "<br>\n",
    "\n",
    "**Rules of Broadcasting:**\n",
    "1. NumPy compares array **shapes element-wise from right to left** (starting from the last dimension).\n",
    "2. Two dimensions are compatible if:\n",
    " - They are equal, OR  \n",
    " - One of them is **1** (it can be stretched to match the other), OR  \n",
    " - One of them **does not exist** (i.e., it's treated as 1 for broadcasting).\n",
    "3. If these rules are not met, a `ValueError` occurs.\n",
    "\n",
    "<br>\n",
    "\n",
    "```python\n",
    "# For example, if we have a 3x3 array `A` and a 1D array `B` of shape (3,), NumPy will broadcast `B` to match the shape of `A` during operations.\n",
    "A = np.array([[1, 2, 3], \n",
    "              [4, 5, 6], \n",
    "              [7, 8, 9]])\n",
    "B = np.array([1, 2, 3])\n",
    "\n",
    "C = A + B  # Broadcasting B to match A's shape\n",
    "\n",
    "print(\"Result:\", C)\n",
    "\n",
    "# Result: [[2, 4, 6], \n",
    "#          [5, 7, 9], \n",
    "#          [8, 10, 12]]\n",
    "\n",
    "# What internally happens is that NumPy treats B as if it were [[1, 2, 3], [1, 2, 3], [1, 2, 3]] during the addition.\n",
    "```"
   ]
  },
  {
   "cell_type": "markdown",
   "id": "e6d87e34",
   "metadata": {},
   "source": [
    "\n",
    "### Finding the Largest Element in Each Row of a 2D Array\n",
    "\n",
    "Suppose we want to find the **largest element in each row** of a 2D array `A` and then subtract it from each element in the same row.  \n",
    "We will explore two cases:\n",
    "- Case 1: Without `keepdims`\n",
    "- Case 2L With `keepdims`\n",
    "\n",
    "#### **Example Array**\n",
    "```python\n",
    "import numpy as np\n",
    "\n",
    "A = np.array([[1, 2, 3],\n",
    "              [4, 5, 6],\n",
    "              [7, 8, 9]])\n",
    "\n",
    "# Case 1: Without keepdims\n",
    "\n",
    "row_max = np.max(A, axis = 1)  # Shape: (3,)\n",
    "print(row_max)\n",
    "# Output: [3 6 9]\n",
    "\n",
    "result = A - row_max\n",
    "print(result)\n",
    "# ValueError: operands could not be broadcast together with shapes (3,3) (3,)\n",
    "# When subtracting from A (shape (3,3)), NumPy tries to broadcast (3,) across (3,3). It treats row_max as acting on columns, not rows, which is not what we want.\n",
    "```"
   ]
  },
  {
   "cell_type": "markdown",
   "id": "47f9f556",
   "metadata": {},
   "source": [
    "```python\n",
    "# Case 2: With keepdims=True\n",
    "\n",
    "row_max = np.max(A, axis = 1, keepdims = True)  # Shape: (3, 1)\n",
    "print(row_max)\n",
    "# Output:\n",
    "# [[3]\n",
    "#  [6]\n",
    "#  [9]]\n",
    "\n",
    "result = A - row_max\n",
    "print(result)\n",
    "# Output:\n",
    "# [[-2 -1  0]\n",
    "#  [-2 -1  0]\n",
    "#  [-2 -1  0]]\n",
    "\n",
    "# The subtraction works correctly because now row_max has the shape (3, 1), which can be broadcasted across each row of A.\n",
    "```"
   ]
  },
  {
   "cell_type": "code",
   "execution_count": 13,
   "id": "965ca87e",
   "metadata": {},
   "outputs": [
    {
     "name": "stdout",
     "output_type": "stream",
     "text": [
      "Total sum of all elements: 45\n",
      "\n",
      "Sum along columns (axis = 0): [12 15 18]\n",
      "Shape of sum along columns: (3,)\n",
      "\n",
      "Sum along rows (axis = 1): [ 6 15 24]\n",
      "Shape of sum along rows: (3,)\n",
      "\n",
      "Sum along columns with keepdims = True: [[12 15 18]]\n",
      "Shape (keepdims = True) for columns: (1, 3)\n",
      "\n",
      "Sum along rows with keepdims = True: [[ 6]\n",
      " [15]\n",
      " [24]]\n",
      "Shape (keepdims = True) for rows: (3, 1)\n",
      "\n",
      "Maximum along columns (axis = 0): [7 8 9]\n",
      "Maximum along rows (axis = 1): [3 6 9]\n"
     ]
    }
   ],
   "source": [
    "# Solved Example\n",
    "\n",
    "A = np.array([[1, 2, 3],\n",
    "              [4, 5, 6],\n",
    "              [7, 8, 9]])\n",
    "\n",
    "# Total sum of all elements\n",
    "print(\"Total sum of all elements:\", np.sum(A))  \n",
    "\n",
    "# Sum along columns (axis = 0)\n",
    "print(\"\\nSum along columns (axis = 0):\", np.sum(A, axis = 0))\n",
    "print(\"Shape of sum along columns:\", np.sum(A, axis = 0).shape)\n",
    "\n",
    "# Sum along rows (axis = 1)\n",
    "print(\"\\nSum along rows (axis = 1):\", np.sum(A, axis = 1))\n",
    "print(\"Shape of sum along rows:\", np.sum(A, axis = 1).shape)\n",
    "\n",
    "# Sum along columns with keepdims = True\n",
    "print(\"\\nSum along columns with keepdims = True:\", np.sum(A, axis = 0, keepdims = True))\n",
    "print(\"Shape (keepdims = True) for columns:\", np.sum(A, axis = 0, keepdims = True).shape)\n",
    "\n",
    "# Sum along rows with keepdims = True\n",
    "print(\"\\nSum along rows with keepdims = True:\", np.sum(A, axis = 1, keepdims = True))\n",
    "print(\"Shape (keepdims = True) for rows:\", np.sum(A, axis = 1, keepdims = True).shape)\n",
    "\n",
    "# Maximum values along columns (axis = 0)\n",
    "print(\"\\nMaximum along columns (axis = 0):\", np.max(A, axis = 0))\n",
    "\n",
    "# Maximum values along rows (axis = 1)\n",
    "print(\"Maximum along rows (axis = 1):\", np.max(A, axis = 1))\n"
   ]
  },
  {
   "cell_type": "markdown",
   "id": "1cf7f04d",
   "metadata": {},
   "source": [
    "### **Part 4: Implementing Activation Functions**"
   ]
  },
  {
   "cell_type": "markdown",
   "id": "6a3360d9",
   "metadata": {},
   "source": [
    "`Activation functions` are crucial in neural networks because they introduce **non-linearity**, allowing the network to learn complex patterns and relationships.  \n",
    "\n",
    "If an activation function were **linear**, the output of each layer would just be a **linear combination** of the inputs, regardless of how many layers you stack.  \n",
    "This would effectively reduce a multi-layer neural network to a **single-layer linear model**, severely limiting its power.\n",
    "\n",
    "#### Why Non-Linearity is Important?\n",
    "- Real-world data is **not linearly separable** (e.g., images, speech, language).\n",
    "- Non-linear activation functions allow networks to approximate **any arbitrary function** (as per the **Universal Approximation Theorem**).\n",
    "- They enable **deep architectures** where each layer learns progressively complex features.\n"
   ]
  },
  {
   "cell_type": "markdown",
   "id": "3f8158dd",
   "metadata": {},
   "source": [
    "#### **ReLu Activation Function**\n",
    "\n",
    "**ReLU** (Rectified Linear Unit) is one of the **most widely used activation functions** in modern neural networks.  \n",
    "\n",
    "It is defined as: `f(x) = max(0, x)`\n",
    "\n",
    "\n",
    "#### Why ReLU?\n",
    "Before ReLU, activation functions like **sigmoid** and **tanh** were popular but had major drawbacks:\n",
    "1. **Vanishing Gradients Problem:**  \n",
    "   For large positive or negative values, sigmoid and tanh saturate (their gradients become near zero), making it difficult for weights to update during backpropagation.\n",
    "   \n",
    "2. **Slow Convergence:**  \n",
    "   The output range of sigmoid is (0,1), and tanh is (-1,1). Their squashed gradients slow down training.\n",
    "\n",
    "**ReLU solves these issues by being:**\n",
    "- **Non-saturating for positive values** → No vanishing gradient problem (for x > 0).\n",
    "- **Sparse activation** (many neurons output zero) → Efficient representation.\n",
    "- **Computationally simple** (just a `max(0,x)` comparison).\n"
   ]
  },
  {
   "cell_type": "code",
   "execution_count": 14,
   "id": "cf1e172a",
   "metadata": {},
   "outputs": [
    {
     "name": "stdout",
     "output_type": "stream",
     "text": [
      "[0.  2.  0.  3.3 0.  1.1 2.2 0. ]\n"
     ]
    }
   ],
   "source": [
    "import numpy as np\n",
    "inputs = [0, 2, -1, 3.3, -2.7, 1.1, 2.2, -100]\n",
    "output = np.maximum(0, inputs) \n",
    "print(output) # It'll replace all negative values with 0, effectively implementing the ReLU activation function"
   ]
  },
  {
   "cell_type": "code",
   "execution_count": 15,
   "id": "a47d5a89",
   "metadata": {},
   "outputs": [],
   "source": [
    "# Implementing ReLu Activation Function\n",
    "\n",
    "class ReLuActivation:\n",
    "    # Forward Propagation\n",
    "    def forward(self, inputs):\n",
    "        self.output = np.maximum(0, inputs)\n",
    "        return self.output"
   ]
  },
  {
   "cell_type": "code",
   "execution_count": 16,
   "id": "0e261079",
   "metadata": {},
   "outputs": [
    {
     "name": "stdout",
     "output_type": "stream",
     "text": [
      "[[0.0000000e+00 0.0000000e+00 0.0000000e+00]\n",
      " [1.3520580e-04 1.8173116e-05 0.0000000e+00]\n",
      " [2.3245417e-04 0.0000000e+00 0.0000000e+00]\n",
      " [3.8226307e-04 0.0000000e+00 0.0000000e+00]\n",
      " [5.7436468e-04 0.0000000e+00 0.0000000e+00]]\n"
     ]
    }
   ],
   "source": [
    "# Create dataset\n",
    "X, Y = spiral_data(samples = 100, classes = 3)\n",
    "\n",
    "# Create Dense layer with 2 input features and 3 output values\n",
    "dense_layer1 = DenseLayer(2, 3)\n",
    "\n",
    "# Make a forward pass of our training data through Dense layer\n",
    "dense_layer_output = dense_layer1.forward(X)\n",
    "\n",
    "# Creating ReLu activation function to use with the output of Dense Layer\n",
    "relu_activation = ReLuActivation()\n",
    "\n",
    "relu_activation_output = relu_activation.forward(dense_layer_output) # Forward pass through this layer\n",
    "\n",
    "print(relu_activation_output[:5])\n"
   ]
  },
  {
   "cell_type": "markdown",
   "id": "0017a949",
   "metadata": {},
   "source": [
    "#### **Softmax Activation Function**\n",
    "\n",
    "The **Softmax function** is a type of activation function that converts a vector of raw scores (logits) into probabilities. It is desiged to be used in the output layer of a neural network for multi-class classification problems.\n",
    "\n",
    "It is defined as: `f(x) = exp(y_i) / sum(exp(y_k)) for all k`\n",
    "\n",
    "Where:\n",
    "- `y_i` is the raw score (logit) for class `i`.\n",
    "- `exp(y_i)` is the exponential of that score.\n",
    "- `sum(exp(y_k))` is the sum of exponentials of all logits."
   ]
  },
  {
   "cell_type": "code",
   "execution_count": 17,
   "id": "3ec76403",
   "metadata": {},
   "outputs": [
    {
     "name": "stdout",
     "output_type": "stream",
     "text": [
      "[[0.06414769 0.17437149 0.47399085 0.28748998]\n",
      " [0.04517666 0.90739747 0.00224921 0.04517666]\n",
      " [0.00522984 0.34875873 0.63547983 0.0105316 ]]\n"
     ]
    },
    {
     "data": {
      "text/plain": [
       "array([1., 1., 1.])"
      ]
     },
     "execution_count": 17,
     "metadata": {},
     "output_type": "execute_result"
    }
   ],
   "source": [
    "inputs = [\n",
    " [1, 2, 3, 2.5],\n",
    " [2., 5., -1., 2],\n",
    " [-1.5, 2.7, 3.3, -0.8]]\n",
    "\n",
    "# Get unnormalized probabilities\n",
    "exp_values = np.exp(inputs - np.max(inputs, axis = 1, keepdims = True)) # Broadcasting to avoid overflow\n",
    "\n",
    "# Normalize them for each sample\n",
    "probabilities = exp_values / np.sum(exp_values, axis = 1, keepdims = True)\n",
    "print(probabilities)\n",
    "\n",
    "np.sum(probabilities, axis = 1) # This should return an array of 1s, indicating that the probabilities sum to 1 for each sample\n"
   ]
  },
  {
   "cell_type": "code",
   "execution_count": 18,
   "id": "9c5b84b7",
   "metadata": {},
   "outputs": [],
   "source": [
    "# Implementing Sotfmax Activation Function\n",
    "\n",
    "class SoftmaxActivation:\n",
    "    # Forward Propagation\n",
    "    def forward(self, inputs):\n",
    "        # Get unnormalized probabilies\n",
    "        exp_values = np.exp(inputs - np.max(inputs, axis = 1, keepdims = True))\n",
    "        # Normalize them for each sample\n",
    "        probabilities = exp_values / np.sum(exp_values, axis = 1, keepdims = True)\n",
    "        self.output = probabilities\n",
    "        return self.output\n"
   ]
  },
  {
   "cell_type": "code",
   "execution_count": 19,
   "id": "cb9643d5",
   "metadata": {},
   "outputs": [],
   "source": [
    "# Create dataset\n",
    "X, Y = spiral_data(samples = 100, classes = 3)\n",
    "\n",
    "# Create Dense layer with 2 input features and 3 output values\n",
    "dense_layer1 = DenseLayer(2, 3)\n",
    "\n",
    "# ReLu activation function to use with Dense Layer\n",
    "relu_activation = ReLuActivation()\n",
    "\n",
    "# Create another Dense layer with 3 input features (output of previous layer as inputs)\n",
    "dense_layer2 = DenseLayer(3, 3)\n",
    "\n",
    "# Softmax activation function to use with Dense Layer\n",
    "softmax_activation = SoftmaxActivation()"
   ]
  },
  {
   "cell_type": "code",
   "execution_count": 20,
   "id": "ff240b6f",
   "metadata": {},
   "outputs": [
    {
     "name": "stdout",
     "output_type": "stream",
     "text": [
      "[[0.33333334 0.33333334 0.33333334]\n",
      " [0.33333322 0.33333343 0.33333334]\n",
      " [0.33333296 0.33333388 0.3333332 ]\n",
      " [0.3333323  0.33333504 0.33333266]\n",
      " [0.33333194 0.33333552 0.33333248]]\n"
     ]
    }
   ],
   "source": [
    "# Make a forward pass of our training data through dense layer 1\n",
    "dense_layer1_output = dense_layer1.forward(X)\n",
    "\n",
    "# Passing the output of Dense layer 1 through ReLu activation function\n",
    "relu_output = relu_activation.forward(dense_layer1_output)\n",
    "\n",
    "# Make a forward pass through the dense layer 2 using the output from the relu activation function\n",
    "dense_layer2_output = dense_layer2.forward(relu_output)\n",
    "\n",
    "# Passing the output of Dense Layer 2 through Softmax activation function\n",
    "softmax_output = softmax_activation.forward(dense_layer2_output)\n",
    "\n",
    "print(softmax_output[:5])"
   ]
  },
  {
   "cell_type": "markdown",
   "id": "178577d2",
   "metadata": {},
   "source": [
    "**[Input: X (100 × 2)] → [Dense 1 (2→3)] → [ReLU] → [Dense 2 (3→3)]  → [Softmax] → [Output: Probabilities (100 × 3)]**"
   ]
  },
  {
   "cell_type": "markdown",
   "id": "1a981460",
   "metadata": {},
   "source": [
    "### **Part 5: Implementing Loss Functions**"
   ]
  },
  {
   "cell_type": "markdown",
   "id": "ababd8fc",
   "metadata": {},
   "source": [
    "- `Loss functions` measures how far an estimated value is from it's true value. It is used to determine which model is better.\n",
    "\n",
    "- `Cost functions` refers to the aggregate of the loss functions over an entire dataset or a batch of data. It sums or averages the individual losses.\n"
   ]
  },
  {
   "cell_type": "markdown",
   "id": "ed2345af",
   "metadata": {},
   "source": [
    "#### **Categorical Cross Entropy Loss**\n",
    "\n",
    "It is used for Multi-Class Classification problems. It converts categories to One Hot Encoding and then calculates the loss based on the predicted probabilities.\n",
    " \n",
    "Categorical Cross Entropy Loss is defined as: `Loss = -∑(y_true * log(y_pred))`\n"
   ]
  },
  {
   "cell_type": "code",
   "execution_count": 21,
   "id": "42d8a889",
   "metadata": {},
   "outputs": [
    {
     "name": "stdout",
     "output_type": "stream",
     "text": [
      "[0.7 0.5 0.9]\n"
     ]
    }
   ],
   "source": [
    "# Implementing Cross Entropy Loss Function for numerical classes\n",
    "\n",
    "softmax_outputs = np.array([[0.7, 0.1, 0.2],\n",
    "                            [0.1, 0.5, 0.4],\n",
    "                            [0.02, 0.9, 0.08]])\n",
    "class_targets = [0, 1, 1]\n",
    "print(softmax_outputs[[0, 1, 2], class_targets])"
   ]
  },
  {
   "cell_type": "markdown",
   "id": "85f83f36",
   "metadata": {},
   "source": [
    "We can see the loss for the third class is lesser than that of the 2nd class."
   ]
  },
  {
   "cell_type": "code",
   "execution_count": 22,
   "id": "a065d251",
   "metadata": {},
   "outputs": [
    {
     "name": "stdout",
     "output_type": "stream",
     "text": [
      "[0.35667494 0.69314718 0.10536052]\n",
      "Average loss: 0.39\n"
     ]
    }
   ],
   "source": [
    "print(-np.log(softmax_outputs[range(len(softmax_outputs)), class_targets]))\n",
    "\n",
    "neg_log = -np.log(softmax_outputs[range(len(softmax_outputs)), class_targets])\n",
    "average_loss = np.mean(neg_log)\n",
    "print(f\"Average loss: {average_loss:.2f}\")"
   ]
  },
  {
   "cell_type": "code",
   "execution_count": 23,
   "id": "df45f2ca",
   "metadata": {},
   "outputs": [
    {
     "name": "stdout",
     "output_type": "stream",
     "text": [
      "[0.35667494 0.22314355 0.35667494]\n",
      "Average loss: 0.31\n"
     ]
    }
   ],
   "source": [
    "# Implementing Cross Entropy Loss Function for One Hot Encoded classes\n",
    "\n",
    "y_true_values = np.array([\n",
    "    [0, 1, 0],\n",
    "    [1, 0, 0],\n",
    "    [0, 0, 1]\n",
    "])\n",
    "\n",
    "y_pred_values = np.array([\n",
    "    [0.2, 0.7, 0.1],\n",
    "    [0.8, 0.1, 0.1],\n",
    "    [0.1, 0.2, 0.7]\n",
    "])\n",
    "\n",
    "cross_entropy_loss = y_true_values * y_pred_values\n",
    "summation = np.sum(cross_entropy_loss, axis = 1)\n",
    "neg_log = -np.log(summation)\n",
    "print(neg_log)\n",
    "print(f\"Average loss: {neg_log.mean():.2f}\")"
   ]
  },
  {
   "cell_type": "markdown",
   "id": "766487bf",
   "metadata": {},
   "source": [
    "We need to prevent very large or very small values when we take the log. Hence, we need to clip our predictions. "
   ]
  },
  {
   "cell_type": "code",
   "execution_count": 24,
   "id": "7a2c917b",
   "metadata": {},
   "outputs": [],
   "source": [
    "# Implementing Loss Class\n",
    "\n",
    "class Loss:\n",
    "    # Calculates the data and regularization losses given model output and ground truth values\n",
    "    def calculate(self, pred_output, actual_output):\n",
    "        sample_losses = self.forward(pred_output, actual_output)\n",
    "        # Calculation mean loss\n",
    "        mean_loss = np.mean(sample_losses)\n",
    "        return mean_loss"
   ]
  },
  {
   "cell_type": "code",
   "execution_count": 25,
   "id": "d896fc5b",
   "metadata": {},
   "outputs": [],
   "source": [
    "# Implementing Categorical Cross Entropy \n",
    "\n",
    "class CategoricalCrossEntropy(Loss):\n",
    "    # Forward Propagation\n",
    "    def forward(self, y_pred, y_true):\n",
    "        # Number of samples in a batch\n",
    "        samples = len(y_pred)\n",
    "\n",
    "        # Clip data to prevent division by 0, clip both sides to not drag mean towards any value\n",
    "        y_pred_clipped = np.clip(y_pred, 1e-7, 1 - 1e-7)\n",
    "\n",
    "        # Probabilities for target values if categorical labels\n",
    "        if len(y_true.shape) == 1:\n",
    "            correct_confidences = y_pred_clipped[range(samples), y_true] \n",
    "\n",
    "        # Probabilities for target values if one-hot encoded labels\n",
    "        elif len(y_true.shape) == 2: \n",
    "            correct_confidences = np.sum(y_pred_clipped * y_true, axis = 1) \n",
    "\n",
    "        # Calculate Losses\n",
    "        negative_log_likelihoods = -np.log(correct_confidences)\n",
    "        return negative_log_likelihoods"
   ]
  },
  {
   "cell_type": "code",
   "execution_count": 26,
   "id": "7b885e50",
   "metadata": {},
   "outputs": [
    {
     "name": "stdout",
     "output_type": "stream",
     "text": [
      "0.38506088005216804\n"
     ]
    }
   ],
   "source": [
    "softmax_outputs = np.array([[0.7, 0.1, 0.2],\n",
    "                            [0.1, 0.5, 0.4],\n",
    "                            [0.02, 0.9, 0.08]])\n",
    "\n",
    "class_targets = np.array([[1, 0, 0],\n",
    "                          [0, 1, 0],\n",
    "                          [0, 1, 0]])\n",
    "\n",
    "cat_cross_entropy = CategoricalCrossEntropy()\n",
    "loss = cat_cross_entropy.calculate(softmax_outputs, class_targets)\n",
    "print(loss)"
   ]
  },
  {
   "cell_type": "markdown",
   "id": "35e0eb12",
   "metadata": {},
   "source": [
    "**What we have done till now!**"
   ]
  },
  {
   "cell_type": "code",
   "execution_count": 27,
   "id": "023f5139",
   "metadata": {},
   "outputs": [
    {
     "name": "stdout",
     "output_type": "stream",
     "text": [
      "[[0.33333334 0.33333334 0.33333334]\n",
      " [0.3333327  0.33333316 0.33333412]\n",
      " [0.3333331  0.33333325 0.3333336 ]\n",
      " [0.33333334 0.33333334 0.33333334]\n",
      " [0.33333334 0.33333334 0.33333334]]\n",
      "Categorical Cross Entropy loss:  1.0986098\n"
     ]
    }
   ],
   "source": [
    "# Create dataset\n",
    "X, Y = spiral_data(samples = 100, classes = 3)\n",
    "\n",
    "# Create Dense layer with 2 input features and 3 output values\n",
    "dense_layer1 = DenseLayer(2, 3)\n",
    "\n",
    "# ReLu activation function to use with Dense Layer\n",
    "relu_activation = ReLuActivation()\n",
    "\n",
    "# Create another Dense layer with 3 input features (output of previous layer as inputs)\n",
    "dense_layer2 = DenseLayer(3, 3)\n",
    "\n",
    "# Softmax activation function to use with Dense Layer\n",
    "softmax_activation = SoftmaxActivation()\n",
    "\n",
    "# Create loss function\n",
    "cat_cross_entropy = CategoricalCrossEntropy()\n",
    "\n",
    "# Make a forward pass of our training data through dense layer 1\n",
    "dense_layer1_output = dense_layer1.forward(X)\n",
    "\n",
    "# Passing the output of Dense layer 1 through ReLu activation function\n",
    "relu_output = relu_activation.forward(dense_layer1_output)\n",
    "\n",
    "# Make a forward pass through the dense layer 2 using the output from the relu activation function\n",
    "dense_layer2_output = dense_layer2.forward(relu_output)\n",
    "\n",
    "# Passing the output of Dense Layer 2 through Softmax activation function\n",
    "softmax_output = softmax_activation.forward(dense_layer2_output)\n",
    "\n",
    "print(softmax_output[:5])\n",
    "\n",
    "# Perform a forward pass through activation function, it takes the output of second dense layer here and returns loss\n",
    "loss = cat_cross_entropy.calculate(softmax_output, Y)\n",
    "print(\"Categorical Cross Entropy loss: \", loss)"
   ]
  },
  {
   "cell_type": "markdown",
   "id": "821b8ad3",
   "metadata": {},
   "source": [
    "The `loss` is very high for our classification problem. We need to reduce it by adjusting the weights and biases of our model."
   ]
  },
  {
   "cell_type": "markdown",
   "id": "1e837193",
   "metadata": {},
   "source": [
    "#### **Introducing Accuracy**"
   ]
  },
  {
   "cell_type": "code",
   "execution_count": 28,
   "id": "fb46d9bc",
   "metadata": {},
   "outputs": [
    {
     "name": "stdout",
     "output_type": "stream",
     "text": [
      "Accuracy: 1.0\n"
     ]
    }
   ],
   "source": [
    "# Probabilities of 3 samples\n",
    "softmax_outputs = np.array([\n",
    "    [0.7, 0.2, 0.1],\n",
    "    [0.1, 0.5, 0.4],\n",
    "    [0.02, 0.9, 0.08]])\n",
    "\n",
    "# Target (ground-truth) labels for 3 samples\n",
    "class_targets = np.array([0, 1, 1])\n",
    "\n",
    "# Calculate values along second axis (axis of index 1)\n",
    "predictions = np.argmax(softmax_outputs, axis = 1)\n",
    "\n",
    "# If targets are one-hot encoded - convert them\n",
    "if len(class_targets.shape) == 2:\n",
    " class_targets = np.argmax(class_targets, axis=1)\n",
    "\n",
    "# True evaluates to 1; False to 0\n",
    "accuracy = np.mean(predictions == class_targets)\n",
    "print('Accuracy:', accuracy)"
   ]
  },
  {
   "cell_type": "markdown",
   "id": "90064fbc",
   "metadata": {},
   "source": [
    "### **Part 6: Introducing Optimization**"
   ]
  },
  {
   "cell_type": "markdown",
   "id": "335d461a",
   "metadata": {},
   "source": [
    "#### **Strategy 1: Randomly Select Weights and Biases**\n",
    "\n",
    "- Pick weights and biases randomly\n",
    "\n",
    "- Calculate loss\n",
    "\n",
    "- Iterate \n",
    "\n",
    "- Choose the weights and biases which gives lowest loss\n"
   ]
  },
  {
   "cell_type": "code",
   "execution_count": 29,
   "id": "3e121993",
   "metadata": {},
   "outputs": [
    {
     "data": {
      "image/png": "[encoded data removed]",
      "text/plain": [
       "<Figure size 640x480 with 1 Axes>"
      ]
     },
     "metadata": {},
     "output_type": "display_data"
    }
   ],
   "source": [
    "# Creating a simple sample dataset\n",
    "\n",
    "from nnfs.datasets import vertical_data\n",
    "import matplotlib.pyplot as plt\n",
    "X, Y = vertical_data(samples = 100, classes = 3)\n",
    "\n",
    "plt.scatter(X[:, 0], X[:, 1], c = Y, s = 40, cmap = 'brg')\n",
    "plt.show()"
   ]
  },
  {
   "cell_type": "code",
   "execution_count": 30,
   "id": "3627dbc5",
   "metadata": {},
   "outputs": [
    {
     "name": "stdout",
     "output_type": "stream",
     "text": [
      "New set of weights found, iteration: 0 loss: 1.0999203 accuracy: 0.5533333333333333\n",
      "New set of weights found, iteration: 2 loss: 1.0982856 accuracy: 0.3333333333333333\n",
      "New set of weights found, iteration: 8 loss: 1.0982594 accuracy: 0.3333333333333333\n",
      "New set of weights found, iteration: 33 loss: 1.0980135 accuracy: 0.3333333333333333\n",
      "New set of weights found, iteration: 138 loss: 1.0976944 accuracy: 0.3333333333333333\n",
      "New set of weights found, iteration: 220 loss: 1.0971756 accuracy: 0.3333333333333333\n",
      "New set of weights found, iteration: 1337 loss: 1.0967919 accuracy: 0.3333333333333333\n",
      "New set of weights found, iteration: 2039 loss: 1.0967497 accuracy: 0.3333333333333333\n",
      "New set of weights found, iteration: 4759 loss: 1.095946 accuracy: 0.3333333333333333\n",
      "New set of weights found, iteration: 8107 loss: 1.0954286 accuracy: 0.6466666666666666\n",
      "New set of weights found, iteration: 8357 loss: 1.0953574 accuracy: 0.3333333333333333\n"
     ]
    }
   ],
   "source": [
    "# Creating the model\n",
    "dense_layer1 = DenseLayer(2, 3)\n",
    "activation_layer1 = ReLuActivation()\n",
    "\n",
    "dense_layer2 = DenseLayer(3, 3)\n",
    "activation_layer2 = SoftmaxActivation()\n",
    "\n",
    "loss_function = CategoricalCrossEntropy()\n",
    "\n",
    "# Helper variables\n",
    "lowest_loss = 9999999 # some initial value\n",
    "best_dense1_weights = dense_layer1.weights.copy()\n",
    "best_dense1_biases = dense_layer1.biases.copy()\n",
    "best_dense2_weights = dense_layer2.weights.copy()\n",
    "best_dense2_biases = dense_layer2.biases.copy()\n",
    "\n",
    "for iteration in range(10000):\n",
    "    dense_layer1.weights = 0.05 * np.random.randn(2, 3)\n",
    "    dense_layer1.biases = 0.05 * np.random.randn(1, 3)\n",
    "    dense_layer2.weights = 0.05 * np.random.randn(3, 3)\n",
    "    dense_layer2.biases = 0.05 * np.random.randn(1, 3)\n",
    "\n",
    "    # Perform a forward pass of the training data through this layer\n",
    "    dense_layer1.forward(X)\n",
    "    activation_layer1.forward(dense_layer1.output)\n",
    "    dense_layer2.forward(activation_layer1.output)\n",
    "    predicted_output = activation_layer2.forward(dense_layer2.output)\n",
    "\n",
    "    loss = loss_function.calculate(pred_output = predicted_output, actual_output = Y)\n",
    "    \n",
    "    # Calculate accuracy from output of activation2 and targets and calculate values along first axis\n",
    "    predictions = np.argmax(predicted_output, axis = 1)\n",
    "    accuracy = np.mean(predictions == Y)\n",
    "\n",
    "    # If loss is smaller - print and save weights and biases aside\n",
    "    if loss < lowest_loss:\n",
    "        print('New set of weights found, iteration:', iteration,'loss:', loss, 'accuracy:', accuracy)\n",
    "        best_dense1_weights = dense_layer1.weights.copy()\n",
    "        best_dense1_biases = dense_layer1.biases.copy()\n",
    "        best_dense2_weights = dense_layer2.weights.copy()\n",
    "        best_dense2_biases = dense_layer2.biases.copy()\n",
    "        lowest_loss = loss"
   ]
  },
  {
   "cell_type": "markdown",
   "id": "a0af79ca",
   "metadata": {},
   "source": [
    "**Strategy 1 does not work!**"
   ]
  },
  {
   "cell_type": "markdown",
   "id": "61b7c95c",
   "metadata": {},
   "source": [
    "#### **Strategy 2: Randomly Adjust Weights and Biases**\n",
    "\n",
    "- If loss decreases for some weights, biases -> choose the next value of weights and biases closer to the current w, b\n",
    "\n",
    "- If loss increases, don't update the weights and biases values\n"
   ]
  },
  {
   "cell_type": "code",
   "execution_count": 31,
   "id": "bcabea0b",
   "metadata": {},
   "outputs": [
    {
     "name": "stdout",
     "output_type": "stream",
     "text": [
      "New set of weights found, iteration: 0 loss: 1.1003902 accuracy: 0.3333333333333333\n",
      "New set of weights found, iteration: 6 loss: 1.100305 accuracy: 0.3333333333333333\n",
      "New set of weights found, iteration: 9 loss: 1.0994121 accuracy: 0.3333333333333333\n",
      "New set of weights found, iteration: 11 loss: 1.0985956 accuracy: 0.3333333333333333\n",
      "New set of weights found, iteration: 33 loss: 1.0984128 accuracy: 0.3333333333333333\n",
      "New set of weights found, iteration: 34 loss: 1.0977695 accuracy: 0.3333333333333333\n",
      "New set of weights found, iteration: 35 loss: 1.097679 accuracy: 0.3333333333333333\n",
      "New set of weights found, iteration: 37 loss: 1.0948764 accuracy: 0.3333333333333333\n",
      "New set of weights found, iteration: 38 loss: 1.0947542 accuracy: 0.3333333333333333\n",
      "New set of weights found, iteration: 39 loss: 1.0921181 accuracy: 0.6633333333333333\n",
      "New set of weights found, iteration: 42 loss: 1.0888232 accuracy: 0.36333333333333334\n",
      "New set of weights found, iteration: 47 loss: 1.0874367 accuracy: 0.3333333333333333\n",
      "New set of weights found, iteration: 48 loss: 1.0865027 accuracy: 0.39666666666666667\n",
      "New set of weights found, iteration: 54 loss: 1.0811042 accuracy: 0.5533333333333333\n",
      "New set of weights found, iteration: 57 loss: 1.0810814 accuracy: 0.6533333333333333\n",
      "New set of weights found, iteration: 60 loss: 1.0792933 accuracy: 0.6566666666666666\n",
      "New set of weights found, iteration: 62 loss: 1.0692817 accuracy: 0.66\n",
      "New set of weights found, iteration: 68 loss: 1.0656856 accuracy: 0.6666666666666666\n",
      "New set of weights found, iteration: 70 loss: 1.0612338 accuracy: 0.6666666666666666\n",
      "New set of weights found, iteration: 72 loss: 1.058594 accuracy: 0.6566666666666666\n",
      "New set of weights found, iteration: 73 loss: 1.0484729 accuracy: 0.6566666666666666\n",
      "New set of weights found, iteration: 74 loss: 1.0480686 accuracy: 0.6666666666666666\n",
      "New set of weights found, iteration: 76 loss: 1.0474384 accuracy: 0.6633333333333333\n",
      "New set of weights found, iteration: 78 loss: 1.0466108 accuracy: 0.6533333333333333\n",
      "New set of weights found, iteration: 81 loss: 1.0435158 accuracy: 0.5666666666666667\n",
      "New set of weights found, iteration: 83 loss: 1.0390356 accuracy: 0.6566666666666666\n",
      "New set of weights found, iteration: 99 loss: 1.0269668 accuracy: 0.5666666666666667\n",
      "New set of weights found, iteration: 102 loss: 1.0108235 accuracy: 0.6433333333333333\n",
      "New set of weights found, iteration: 105 loss: 0.9961896 accuracy: 0.6566666666666666\n",
      "New set of weights found, iteration: 107 loss: 0.99419874 accuracy: 0.5266666666666666\n",
      "New set of weights found, iteration: 110 loss: 0.9941949 accuracy: 0.35\n",
      "New set of weights found, iteration: 112 loss: 0.99118286 accuracy: 0.4066666666666667\n",
      "New set of weights found, iteration: 116 loss: 0.9859488 accuracy: 0.8566666666666667\n",
      "New set of weights found, iteration: 117 loss: 0.9809249 accuracy: 0.89\n",
      "New set of weights found, iteration: 120 loss: 0.9800583 accuracy: 0.8066666666666666\n",
      "New set of weights found, iteration: 123 loss: 0.9702488 accuracy: 0.6933333333333334\n",
      "New set of weights found, iteration: 124 loss: 0.9579639 accuracy: 0.57\n",
      "New set of weights found, iteration: 126 loss: 0.94740903 accuracy: 0.8766666666666667\n",
      "New set of weights found, iteration: 128 loss: 0.9320758 accuracy: 0.6366666666666667\n",
      "New set of weights found, iteration: 135 loss: 0.9227363 accuracy: 0.9133333333333333\n",
      "New set of weights found, iteration: 136 loss: 0.9176041 accuracy: 0.72\n",
      "New set of weights found, iteration: 137 loss: 0.9143907 accuracy: 0.7966666666666666\n",
      "New set of weights found, iteration: 140 loss: 0.91058147 accuracy: 0.7766666666666666\n",
      "New set of weights found, iteration: 142 loss: 0.9076709 accuracy: 0.81\n",
      "New set of weights found, iteration: 143 loss: 0.90766406 accuracy: 0.66\n",
      "New set of weights found, iteration: 145 loss: 0.89788836 accuracy: 0.78\n",
      "New set of weights found, iteration: 147 loss: 0.8921628 accuracy: 0.67\n",
      "New set of weights found, iteration: 149 loss: 0.87145734 accuracy: 0.8666666666666667\n",
      "New set of weights found, iteration: 154 loss: 0.86371076 accuracy: 0.8266666666666667\n",
      "New set of weights found, iteration: 160 loss: 0.8591276 accuracy: 0.6133333333333333\n",
      "New set of weights found, iteration: 161 loss: 0.8589862 accuracy: 0.5533333333333333\n",
      "New set of weights found, iteration: 163 loss: 0.8542629 accuracy: 0.5433333333333333\n",
      "New set of weights found, iteration: 166 loss: 0.8393102 accuracy: 0.5733333333333334\n",
      "New set of weights found, iteration: 168 loss: 0.83776593 accuracy: 0.7233333333333334\n",
      "New set of weights found, iteration: 176 loss: 0.8324568 accuracy: 0.7266666666666667\n",
      "New set of weights found, iteration: 186 loss: 0.8310773 accuracy: 0.9366666666666666\n",
      "New set of weights found, iteration: 187 loss: 0.821243 accuracy: 0.5866666666666667\n",
      "New set of weights found, iteration: 192 loss: 0.81007636 accuracy: 0.8333333333333334\n",
      "New set of weights found, iteration: 193 loss: 0.7974551 accuracy: 0.5466666666666666\n",
      "New set of weights found, iteration: 194 loss: 0.78016424 accuracy: 0.85\n",
      "New set of weights found, iteration: 198 loss: 0.77976245 accuracy: 0.66\n",
      "New set of weights found, iteration: 201 loss: 0.76775455 accuracy: 0.75\n",
      "New set of weights found, iteration: 205 loss: 0.7642588 accuracy: 0.8\n",
      "New set of weights found, iteration: 206 loss: 0.7532576 accuracy: 0.8266666666666667\n",
      "New set of weights found, iteration: 208 loss: 0.7428471 accuracy: 0.8966666666666666\n",
      "New set of weights found, iteration: 212 loss: 0.73304665 accuracy: 0.8733333333333333\n",
      "New set of weights found, iteration: 218 loss: 0.72971725 accuracy: 0.87\n",
      "New set of weights found, iteration: 220 loss: 0.7294264 accuracy: 0.9466666666666667\n",
      "New set of weights found, iteration: 221 loss: 0.72759724 accuracy: 0.8733333333333333\n",
      "New set of weights found, iteration: 225 loss: 0.7057241 accuracy: 0.8633333333333333\n",
      "New set of weights found, iteration: 227 loss: 0.6953249 accuracy: 0.9033333333333333\n",
      "New set of weights found, iteration: 228 loss: 0.6851236 accuracy: 0.81\n",
      "New set of weights found, iteration: 231 loss: 0.6722252 accuracy: 0.8766666666666667\n",
      "New set of weights found, iteration: 237 loss: 0.6587443 accuracy: 0.84\n",
      "New set of weights found, iteration: 243 loss: 0.65110624 accuracy: 0.8166666666666667\n",
      "New set of weights found, iteration: 245 loss: 0.6481693 accuracy: 0.79\n",
      "New set of weights found, iteration: 251 loss: 0.647464 accuracy: 0.68\n",
      "New set of weights found, iteration: 252 loss: 0.6464204 accuracy: 0.6633333333333333\n",
      "New set of weights found, iteration: 254 loss: 0.6403639 accuracy: 0.6866666666666666\n",
      "New set of weights found, iteration: 255 loss: 0.6304215 accuracy: 0.74\n",
      "New set of weights found, iteration: 261 loss: 0.6286492 accuracy: 0.71\n",
      "New set of weights found, iteration: 266 loss: 0.60527647 accuracy: 0.8133333333333334\n",
      "New set of weights found, iteration: 272 loss: 0.5978831 accuracy: 0.8833333333333333\n",
      "New set of weights found, iteration: 274 loss: 0.59428245 accuracy: 0.8666666666666667\n",
      "New set of weights found, iteration: 277 loss: 0.58693856 accuracy: 0.8966666666666666\n",
      "New set of weights found, iteration: 286 loss: 0.58219206 accuracy: 0.8666666666666667\n",
      "New set of weights found, iteration: 288 loss: 0.57339823 accuracy: 0.8433333333333334\n",
      "New set of weights found, iteration: 292 loss: 0.5634069 accuracy: 0.86\n",
      "New set of weights found, iteration: 296 loss: 0.5572197 accuracy: 0.8766666666666667\n",
      "New set of weights found, iteration: 298 loss: 0.5545179 accuracy: 0.8833333333333333\n",
      "New set of weights found, iteration: 299 loss: 0.54884785 accuracy: 0.8966666666666666\n",
      "New set of weights found, iteration: 308 loss: 0.5430443 accuracy: 0.8933333333333333\n",
      "New set of weights found, iteration: 311 loss: 0.54006386 accuracy: 0.87\n",
      "New set of weights found, iteration: 314 loss: 0.53806216 accuracy: 0.8833333333333333\n",
      "New set of weights found, iteration: 315 loss: 0.53488356 accuracy: 0.8633333333333333\n",
      "New set of weights found, iteration: 316 loss: 0.5343695 accuracy: 0.8766666666666667\n",
      "New set of weights found, iteration: 318 loss: 0.52590543 accuracy: 0.88\n",
      "New set of weights found, iteration: 320 loss: 0.51901364 accuracy: 0.8533333333333334\n",
      "New set of weights found, iteration: 323 loss: 0.50889677 accuracy: 0.8866666666666667\n",
      "New set of weights found, iteration: 324 loss: 0.5074341 accuracy: 0.9066666666666666\n",
      "New set of weights found, iteration: 325 loss: 0.4939416 accuracy: 0.8966666666666666\n",
      "New set of weights found, iteration: 326 loss: 0.49130234 accuracy: 0.8866666666666667\n",
      "New set of weights found, iteration: 328 loss: 0.48863566 accuracy: 0.8866666666666667\n",
      "New set of weights found, iteration: 329 loss: 0.48301432 accuracy: 0.87\n",
      "New set of weights found, iteration: 330 loss: 0.4773101 accuracy: 0.8266666666666667\n",
      "New set of weights found, iteration: 333 loss: 0.4703367 accuracy: 0.8633333333333333\n",
      "New set of weights found, iteration: 334 loss: 0.4697878 accuracy: 0.8733333333333333\n",
      "New set of weights found, iteration: 336 loss: 0.4660921 accuracy: 0.9033333333333333\n",
      "New set of weights found, iteration: 337 loss: 0.46506378 accuracy: 0.8966666666666666\n",
      "New set of weights found, iteration: 340 loss: 0.45672026 accuracy: 0.9233333333333333\n",
      "New set of weights found, iteration: 342 loss: 0.4556211 accuracy: 0.9266666666666666\n",
      "New set of weights found, iteration: 343 loss: 0.45318645 accuracy: 0.9166666666666666\n",
      "New set of weights found, iteration: 351 loss: 0.43975616 accuracy: 0.9233333333333333\n",
      "New set of weights found, iteration: 356 loss: 0.43305278 accuracy: 0.8966666666666666\n",
      "New set of weights found, iteration: 361 loss: 0.4325016 accuracy: 0.9\n",
      "New set of weights found, iteration: 364 loss: 0.4292864 accuracy: 0.9133333333333333\n",
      "New set of weights found, iteration: 369 loss: 0.4252002 accuracy: 0.91\n",
      "New set of weights found, iteration: 383 loss: 0.4198234 accuracy: 0.9166666666666666\n",
      "New set of weights found, iteration: 385 loss: 0.41958156 accuracy: 0.9066666666666666\n",
      "New set of weights found, iteration: 390 loss: 0.41660857 accuracy: 0.9033333333333333\n",
      "New set of weights found, iteration: 392 loss: 0.4154923 accuracy: 0.9033333333333333\n",
      "New set of weights found, iteration: 393 loss: 0.41446126 accuracy: 0.8866666666666667\n",
      "New set of weights found, iteration: 394 loss: 0.4086942 accuracy: 0.8966666666666666\n",
      "New set of weights found, iteration: 395 loss: 0.40001446 accuracy: 0.92\n",
      "New set of weights found, iteration: 399 loss: 0.38974264 accuracy: 0.91\n",
      "New set of weights found, iteration: 407 loss: 0.38868353 accuracy: 0.9066666666666666\n",
      "New set of weights found, iteration: 409 loss: 0.38674104 accuracy: 0.93\n",
      "New set of weights found, iteration: 410 loss: 0.38072032 accuracy: 0.91\n",
      "New set of weights found, iteration: 414 loss: 0.376687 accuracy: 0.91\n",
      "New set of weights found, iteration: 417 loss: 0.3730735 accuracy: 0.92\n",
      "New set of weights found, iteration: 422 loss: 0.36335105 accuracy: 0.9133333333333333\n",
      "New set of weights found, iteration: 423 loss: 0.3629948 accuracy: 0.9266666666666666\n",
      "New set of weights found, iteration: 424 loss: 0.35604915 accuracy: 0.9266666666666666\n",
      "New set of weights found, iteration: 426 loss: 0.35488567 accuracy: 0.9066666666666666\n",
      "New set of weights found, iteration: 427 loss: 0.3542074 accuracy: 0.8933333333333333\n",
      "New set of weights found, iteration: 434 loss: 0.34901276 accuracy: 0.89\n",
      "New set of weights found, iteration: 436 loss: 0.34403977 accuracy: 0.9\n",
      "New set of weights found, iteration: 437 loss: 0.33605677 accuracy: 0.9033333333333333\n",
      "New set of weights found, iteration: 442 loss: 0.33078462 accuracy: 0.92\n",
      "New set of weights found, iteration: 446 loss: 0.32539362 accuracy: 0.9133333333333333\n",
      "New set of weights found, iteration: 451 loss: 0.3249963 accuracy: 0.93\n",
      "New set of weights found, iteration: 467 loss: 0.32262602 accuracy: 0.9266666666666666\n",
      "New set of weights found, iteration: 468 loss: 0.322157 accuracy: 0.9233333333333333\n",
      "New set of weights found, iteration: 479 loss: 0.32033056 accuracy: 0.91\n",
      "New set of weights found, iteration: 480 loss: 0.31603378 accuracy: 0.9233333333333333\n",
      "New set of weights found, iteration: 482 loss: 0.31584817 accuracy: 0.93\n",
      "New set of weights found, iteration: 487 loss: 0.3147246 accuracy: 0.9366666666666666\n",
      "New set of weights found, iteration: 494 loss: 0.31325588 accuracy: 0.94\n",
      "New set of weights found, iteration: 496 loss: 0.30869502 accuracy: 0.9333333333333333\n",
      "New set of weights found, iteration: 497 loss: 0.30818298 accuracy: 0.9266666666666666\n",
      "New set of weights found, iteration: 499 loss: 0.30528376 accuracy: 0.9366666666666666\n",
      "New set of weights found, iteration: 508 loss: 0.30324164 accuracy: 0.9266666666666666\n",
      "New set of weights found, iteration: 515 loss: 0.30080613 accuracy: 0.9366666666666666\n",
      "New set of weights found, iteration: 516 loss: 0.29856598 accuracy: 0.9266666666666666\n",
      "New set of weights found, iteration: 519 loss: 0.29856232 accuracy: 0.9233333333333333\n",
      "New set of weights found, iteration: 520 loss: 0.2910054 accuracy: 0.9433333333333334\n",
      "New set of weights found, iteration: 522 loss: 0.29017928 accuracy: 0.92\n",
      "New set of weights found, iteration: 526 loss: 0.289175 accuracy: 0.92\n",
      "New set of weights found, iteration: 531 loss: 0.28425705 accuracy: 0.9266666666666666\n",
      "New set of weights found, iteration: 535 loss: 0.2755656 accuracy: 0.9233333333333333\n",
      "New set of weights found, iteration: 539 loss: 0.26905957 accuracy: 0.9266666666666666\n",
      "New set of weights found, iteration: 541 loss: 0.2660104 accuracy: 0.9333333333333333\n",
      "New set of weights found, iteration: 549 loss: 0.26502138 accuracy: 0.92\n",
      "New set of weights found, iteration: 556 loss: 0.2600564 accuracy: 0.9233333333333333\n",
      "New set of weights found, iteration: 559 loss: 0.25768596 accuracy: 0.94\n",
      "New set of weights found, iteration: 567 loss: 0.2569234 accuracy: 0.9266666666666666\n",
      "New set of weights found, iteration: 570 loss: 0.25612423 accuracy: 0.93\n",
      "New set of weights found, iteration: 571 loss: 0.25373167 accuracy: 0.9333333333333333\n",
      "New set of weights found, iteration: 572 loss: 0.25143978 accuracy: 0.94\n",
      "New set of weights found, iteration: 588 loss: 0.24829982 accuracy: 0.9366666666666666\n",
      "New set of weights found, iteration: 593 loss: 0.24604152 accuracy: 0.9366666666666666\n",
      "New set of weights found, iteration: 594 loss: 0.24555999 accuracy: 0.93\n",
      "New set of weights found, iteration: 595 loss: 0.24435231 accuracy: 0.9366666666666666\n",
      "New set of weights found, iteration: 609 loss: 0.24132347 accuracy: 0.9433333333333334\n",
      "New set of weights found, iteration: 610 loss: 0.24066824 accuracy: 0.9433333333333334\n",
      "New set of weights found, iteration: 611 loss: 0.23885895 accuracy: 0.94\n",
      "New set of weights found, iteration: 613 loss: 0.2381042 accuracy: 0.93\n",
      "New set of weights found, iteration: 615 loss: 0.23759389 accuracy: 0.9266666666666666\n",
      "New set of weights found, iteration: 616 loss: 0.23601216 accuracy: 0.94\n",
      "New set of weights found, iteration: 639 loss: 0.23572972 accuracy: 0.9466666666666667\n",
      "New set of weights found, iteration: 642 loss: 0.23552841 accuracy: 0.94\n",
      "New set of weights found, iteration: 643 loss: 0.23183498 accuracy: 0.94\n",
      "New set of weights found, iteration: 648 loss: 0.23116134 accuracy: 0.94\n",
      "New set of weights found, iteration: 653 loss: 0.22932017 accuracy: 0.9433333333333334\n",
      "New set of weights found, iteration: 655 loss: 0.22696427 accuracy: 0.94\n",
      "New set of weights found, iteration: 661 loss: 0.22355916 accuracy: 0.94\n",
      "New set of weights found, iteration: 688 loss: 0.22327502 accuracy: 0.9266666666666666\n",
      "New set of weights found, iteration: 692 loss: 0.21868788 accuracy: 0.94\n",
      "New set of weights found, iteration: 702 loss: 0.2170133 accuracy: 0.9366666666666666\n",
      "New set of weights found, iteration: 717 loss: 0.2159066 accuracy: 0.9333333333333333\n",
      "New set of weights found, iteration: 719 loss: 0.2154153 accuracy: 0.9366666666666666\n",
      "New set of weights found, iteration: 723 loss: 0.21515274 accuracy: 0.9333333333333333\n",
      "New set of weights found, iteration: 728 loss: 0.21390139 accuracy: 0.9466666666666667\n",
      "New set of weights found, iteration: 729 loss: 0.21249148 accuracy: 0.9333333333333333\n",
      "New set of weights found, iteration: 734 loss: 0.20675108 accuracy: 0.9366666666666666\n",
      "New set of weights found, iteration: 735 loss: 0.20628968 accuracy: 0.94\n",
      "New set of weights found, iteration: 738 loss: 0.20096555 accuracy: 0.9433333333333334\n",
      "New set of weights found, iteration: 753 loss: 0.2000153 accuracy: 0.9366666666666666\n",
      "New set of weights found, iteration: 762 loss: 0.1994873 accuracy: 0.94\n",
      "New set of weights found, iteration: 764 loss: 0.19742033 accuracy: 0.9433333333333334\n",
      "New set of weights found, iteration: 768 loss: 0.19638555 accuracy: 0.94\n",
      "New set of weights found, iteration: 773 loss: 0.19515541 accuracy: 0.9433333333333334\n",
      "New set of weights found, iteration: 779 loss: 0.19391201 accuracy: 0.9366666666666666\n",
      "New set of weights found, iteration: 780 loss: 0.19285499 accuracy: 0.9266666666666666\n",
      "New set of weights found, iteration: 785 loss: 0.19276367 accuracy: 0.94\n",
      "New set of weights found, iteration: 816 loss: 0.19206652 accuracy: 0.9366666666666666\n",
      "New set of weights found, iteration: 817 loss: 0.19074939 accuracy: 0.94\n",
      "New set of weights found, iteration: 818 loss: 0.19073847 accuracy: 0.94\n",
      "New set of weights found, iteration: 841 loss: 0.18989289 accuracy: 0.94\n",
      "New set of weights found, iteration: 845 loss: 0.1894488 accuracy: 0.9366666666666666\n",
      "New set of weights found, iteration: 847 loss: 0.18600865 accuracy: 0.94\n",
      "New set of weights found, iteration: 866 loss: 0.18454076 accuracy: 0.9366666666666666\n",
      "New set of weights found, iteration: 869 loss: 0.18220393 accuracy: 0.9433333333333334\n",
      "New set of weights found, iteration: 879 loss: 0.18206045 accuracy: 0.94\n",
      "New set of weights found, iteration: 889 loss: 0.18196508 accuracy: 0.9366666666666666\n",
      "New set of weights found, iteration: 892 loss: 0.18113299 accuracy: 0.9433333333333334\n",
      "New set of weights found, iteration: 893 loss: 0.18083842 accuracy: 0.94\n",
      "New set of weights found, iteration: 899 loss: 0.18055636 accuracy: 0.94\n",
      "New set of weights found, iteration: 921 loss: 0.18017331 accuracy: 0.9433333333333334\n",
      "New set of weights found, iteration: 923 loss: 0.17908579 accuracy: 0.9366666666666666\n",
      "New set of weights found, iteration: 933 loss: 0.17707245 accuracy: 0.94\n",
      "New set of weights found, iteration: 951 loss: 0.17582324 accuracy: 0.94\n",
      "New set of weights found, iteration: 964 loss: 0.17557508 accuracy: 0.9433333333333334\n",
      "New set of weights found, iteration: 965 loss: 0.17391065 accuracy: 0.9466666666666667\n",
      "New set of weights found, iteration: 976 loss: 0.17326282 accuracy: 0.94\n",
      "New set of weights found, iteration: 983 loss: 0.17257954 accuracy: 0.94\n",
      "New set of weights found, iteration: 994 loss: 0.17201722 accuracy: 0.9366666666666666\n",
      "New set of weights found, iteration: 1000 loss: 0.17094553 accuracy: 0.9366666666666666\n",
      "New set of weights found, iteration: 1001 loss: 0.16870245 accuracy: 0.94\n",
      "New set of weights found, iteration: 1008 loss: 0.16831602 accuracy: 0.94\n",
      "New set of weights found, iteration: 1035 loss: 0.16735674 accuracy: 0.9433333333333334\n",
      "New set of weights found, iteration: 1078 loss: 0.1673036 accuracy: 0.9466666666666667\n",
      "New set of weights found, iteration: 1089 loss: 0.16698599 accuracy: 0.9366666666666666\n",
      "New set of weights found, iteration: 1098 loss: 0.16629039 accuracy: 0.9366666666666666\n",
      "New set of weights found, iteration: 1125 loss: 0.16578 accuracy: 0.9366666666666666\n",
      "New set of weights found, iteration: 1175 loss: 0.16553289 accuracy: 0.94\n",
      "New set of weights found, iteration: 1181 loss: 0.16533372 accuracy: 0.9366666666666666\n",
      "New set of weights found, iteration: 1195 loss: 0.16499822 accuracy: 0.94\n",
      "New set of weights found, iteration: 1197 loss: 0.16463192 accuracy: 0.9366666666666666\n",
      "New set of weights found, iteration: 1235 loss: 0.16459343 accuracy: 0.9433333333333334\n",
      "New set of weights found, iteration: 1322 loss: 0.16453181 accuracy: 0.94\n",
      "New set of weights found, iteration: 1343 loss: 0.16450484 accuracy: 0.94\n",
      "New set of weights found, iteration: 1362 loss: 0.16419595 accuracy: 0.9366666666666666\n",
      "New set of weights found, iteration: 1379 loss: 0.16403341 accuracy: 0.94\n",
      "New set of weights found, iteration: 1382 loss: 0.16376103 accuracy: 0.9366666666666666\n",
      "New set of weights found, iteration: 1398 loss: 0.163091 accuracy: 0.9366666666666666\n",
      "New set of weights found, iteration: 1408 loss: 0.16283679 accuracy: 0.9333333333333333\n",
      "New set of weights found, iteration: 1409 loss: 0.16268104 accuracy: 0.9366666666666666\n",
      "New set of weights found, iteration: 1423 loss: 0.162599 accuracy: 0.9433333333333334\n",
      "New set of weights found, iteration: 1438 loss: 0.16243795 accuracy: 0.9366666666666666\n",
      "New set of weights found, iteration: 1482 loss: 0.16228859 accuracy: 0.94\n",
      "New set of weights found, iteration: 1531 loss: 0.16199349 accuracy: 0.9366666666666666\n",
      "New set of weights found, iteration: 1557 loss: 0.16191562 accuracy: 0.9366666666666666\n",
      "New set of weights found, iteration: 1563 loss: 0.16165411 accuracy: 0.94\n",
      "New set of weights found, iteration: 1665 loss: 0.16162194 accuracy: 0.94\n",
      "New set of weights found, iteration: 1686 loss: 0.16151007 accuracy: 0.9366666666666666\n",
      "New set of weights found, iteration: 1801 loss: 0.16144936 accuracy: 0.9366666666666666\n",
      "New set of weights found, iteration: 1891 loss: 0.16141523 accuracy: 0.9366666666666666\n",
      "New set of weights found, iteration: 2267 loss: 0.16136746 accuracy: 0.94\n",
      "New set of weights found, iteration: 2651 loss: 0.1613585 accuracy: 0.93\n",
      "New set of weights found, iteration: 2713 loss: 0.16127388 accuracy: 0.9366666666666666\n",
      "New set of weights found, iteration: 2891 loss: 0.16126747 accuracy: 0.94\n",
      "New set of weights found, iteration: 2916 loss: 0.1611816 accuracy: 0.9366666666666666\n",
      "New set of weights found, iteration: 2987 loss: 0.16111551 accuracy: 0.9366666666666666\n",
      "New set of weights found, iteration: 3267 loss: 0.1611072 accuracy: 0.9366666666666666\n",
      "New set of weights found, iteration: 3551 loss: 0.16109052 accuracy: 0.9366666666666666\n",
      "New set of weights found, iteration: 3565 loss: 0.16106346 accuracy: 0.9366666666666666\n",
      "New set of weights found, iteration: 5495 loss: 0.16105154 accuracy: 0.9366666666666666\n",
      "New set of weights found, iteration: 6119 loss: 0.1610378 accuracy: 0.9366666666666666\n",
      "New set of weights found, iteration: 6575 loss: 0.16103546 accuracy: 0.9366666666666666\n",
      "New set of weights found, iteration: 7260 loss: 0.16102417 accuracy: 0.9366666666666666\n"
     ]
    }
   ],
   "source": [
    "# Creating the model\n",
    "dense_layer1 = DenseLayer(2, 3)\n",
    "activation_layer1 = ReLuActivation()\n",
    "\n",
    "dense_layer2 = DenseLayer(3, 3)\n",
    "activation_layer2 = SoftmaxActivation()\n",
    "\n",
    "loss_function = CategoricalCrossEntropy()\n",
    "\n",
    "# Helper variables\n",
    "lowest_loss = 9999999 # some initial value\n",
    "best_dense1_weights = dense_layer1.weights.copy()\n",
    "best_dense1_biases = dense_layer1.biases.copy()\n",
    "best_dense2_weights = dense_layer2.weights.copy()\n",
    "best_dense2_biases = dense_layer2.biases.copy()\n",
    "\n",
    "for iteration in range(10000):\n",
    "    # Update weights with some small random values\n",
    "    dense_layer1.weights += 0.05 * np.random.randn(2, 3)\n",
    "    dense_layer1.biases += 0.05 * np.random.randn(1, 3)\n",
    "    dense_layer2.weights += 0.05 * np.random.randn(3, 3)\n",
    "    dense_layer2.biases += 0.05 * np.random.randn(1, 3)\n",
    "\n",
    "    \n",
    "    # Perform a forward pass of the training data through this layer\n",
    "    dense_layer1.forward(X)\n",
    "    activation_layer1.forward(dense_layer1.output)\n",
    "    dense_layer2.forward(activation_layer1.output)\n",
    "    predicted_output = activation_layer2.forward(dense_layer2.output)\n",
    "\n",
    "    loss = loss_function.calculate(pred_output = predicted_output, actual_output = Y)\n",
    "\n",
    "     # Calculate accuracy from output of activation2 and targets and calculate values along first axis\n",
    "    predictions = np.argmax(predicted_output, axis = 1)\n",
    "    accuracy = np.mean(predictions == Y)\n",
    "\n",
    "    # If loss is smaller - print and save weights and biases aside\n",
    "    if loss < lowest_loss:\n",
    "        print('New set of weights found, iteration:', iteration,'loss:', loss, 'accuracy:', accuracy)\n",
    "        best_dense1_weights = dense_layer1.weights.copy()\n",
    "        best_dense1_biases = dense_layer1.biases.copy()\n",
    "        best_dense2_weights = dense_layer2.weights.copy()\n",
    "        best_dense2_biases = dense_layer2.biases.copy()\n",
    "        lowest_loss = loss\n",
    "    else:\n",
    "        dense_layer1.weights = best_dense1_weights.copy()\n",
    "        dense_layer1.biases = best_dense1_biases.copy()\n",
    "        dense_layer2.weights = best_dense2_weights.copy()\n",
    "        dense_layer2.biases = best_dense2_biases.copy()\n"
   ]
  },
  {
   "cell_type": "markdown",
   "id": "81e022f3",
   "metadata": {},
   "source": [
    "See how significantly we reduced the loss... **Strategy 2 works**"
   ]
  },
  {
   "cell_type": "markdown",
   "id": "2898f2c5",
   "metadata": {},
   "source": [
    "Even though the Strategy 2 works, it is not efficient. We need to find a better way to update the weights and biases.\n",
    "For that we need to understand `Backpropagation` and how it works."
   ]
  },
  {
   "cell_type": "markdown",
   "id": "329a0f72",
   "metadata": {},
   "source": [
    "### **Part 7: Backpropagation**"
   ]
  },
  {
   "cell_type": "markdown",
   "id": "0cec55e8",
   "metadata": {},
   "source": [
    "`Backpropagation` is a method used in artificial neural networks to calculate the gradient of the loss function with respect to each weight by the chain rule, allowing for efficient computation of gradients.\n",
    "\n",
    "This process involves:\n",
    "1. **Forward Pass**: Compute the output of the network given the input data.\n",
    "\n",
    "2. **Loss Calculation**: Calculate the loss using a loss function (e.g., categorical cross-entropy).\n",
    "\n",
    "3. **Backward Pass**: Compute the gradients of the loss with respect to the weights and biases using the chain rule.\n",
    "\n",
    "4. **Weight Update**: Adjust the weights and biases using the computed gradients and a learning rate."
   ]
  },
  {
   "cell_type": "markdown",
   "id": "0675db27",
   "metadata": {},
   "source": [
    "The weight update rule can be expressed as:\n",
    "```python\n",
    "w = w - learning_rate * gradient\n",
    "b = b - learning_rate * gradient\n",
    "``` "
   ]
  },
  {
   "cell_type": "code",
   "execution_count": 32,
   "id": "4041fd72",
   "metadata": {},
   "outputs": [
    {
     "name": "stdout",
     "output_type": "stream",
     "text": [
      "Iteration 1, Loss: 36.0\n",
      "Iteration 2, Loss: 33.872397424621624\n",
      "Iteration 3, Loss: 31.87054345809546\n",
      "Iteration 4, Loss: 29.98699091998773\n",
      "Iteration 5, Loss: 28.214761511794592\n",
      "Iteration 6, Loss: 26.54726775906168\n",
      "Iteration 7, Loss: 24.978326552541866\n",
      "Iteration 8, Loss: 23.5021050739742\n",
      "Iteration 9, Loss: 22.11313179151597\n",
      "Iteration 10, Loss: 20.806246424284897\n",
      "Iteration 11, Loss: 19.576596334671486\n",
      "Iteration 12, Loss: 18.41961908608719\n",
      "Iteration 13, Loss: 17.33101994032309\n",
      "Iteration 14, Loss: 16.306757070164853\n",
      "Iteration 15, Loss: 15.343027506224132\n",
      "Iteration 16, Loss: 14.436253786815284\n",
      "Iteration 17, Loss: 13.583071280700132\n",
      "Iteration 18, Loss: 12.780312744165439\n",
      "Iteration 19, Loss: 12.024995767388878\n",
      "Iteration 20, Loss: 11.314319082257104\n",
      "Iteration 21, Loss: 10.64564263994962\n",
      "Iteration 22, Loss: 10.016485041642266\n",
      "Iteration 23, Loss: 9.424510031713222\n",
      "Iteration 24, Loss: 8.867521365009814\n",
      "Iteration 25, Loss: 8.34345204094211\n",
      "Iteration 26, Loss: 7.850353118483743\n",
      "Iteration 27, Loss: 7.386397874602818\n",
      "Iteration 28, Loss: 6.94986173712617\n",
      "Iteration 29, Loss: 6.539124434950737\n",
      "Iteration 30, Loss: 6.1526621719118015\n",
      "Iteration 31, Loss: 5.789039869058961\n",
      "Iteration 32, Loss: 5.446907999417336\n",
      "Iteration 33, Loss: 5.124995576577539\n",
      "Iteration 34, Loss: 4.822108497170647\n",
      "Iteration 35, Loss: 4.537121521071987\n",
      "Iteration 36, Loss: 4.268978030723312\n",
      "Iteration 37, Loss: 4.01668121563854\n",
      "Iteration 38, Loss: 3.7792956126389763\n",
      "Iteration 39, Loss: 3.5559389510643094\n",
      "Iteration 40, Loss: 3.345782865003274\n",
      "Iteration 41, Loss: 3.1480471758404285\n",
      "Iteration 42, Loss: 2.961997679823884\n",
      "Iteration 43, Loss: 2.78694359065541\n",
      "Iteration 44, Loss: 2.622235303237792\n",
      "Iteration 45, Loss: 2.467261121418954\n",
      "Iteration 46, Loss: 2.321446092335641\n",
      "Iteration 47, Loss: 2.184248486806066\n",
      "Iteration 48, Loss: 2.0551593804914616\n",
      "Iteration 49, Loss: 1.9336995852420789\n",
      "Iteration 50, Loss: 1.8194178573235094\n",
      "Iteration 51, Loss: 1.7118903069357754\n",
      "Iteration 52, Loss: 1.6107175940030252\n",
      "Iteration 53, Loss: 1.5155241897377694\n",
      "Iteration 54, Loss: 1.4259567411109748\n",
      "Iteration 55, Loss: 1.3416826255281136\n",
      "Iteration 56, Loss: 1.262389208248047\n",
      "Iteration 57, Loss: 1.1877819791340551\n",
      "Iteration 58, Loss: 1.1175840765571434\n",
      "Iteration 59, Loss: 1.0515348500680068\n",
      "Iteration 60, Loss: 0.9893891461492582\n",
      "Iteration 61, Loss: 0.930916260625565\n",
      "Iteration 62, Loss: 0.875899078709395\n",
      "Iteration 63, Loss: 0.8241334819517507\n",
      "Iteration 64, Loss: 0.7754271861095672\n",
      "Iteration 65, Loss: 0.7295994320679934\n",
      "Iteration 66, Loss: 0.6864801042040583\n",
      "Iteration 67, Loss: 0.6459091389617334\n",
      "Iteration 68, Loss: 0.6077358933180028\n",
      "Iteration 69, Loss: 0.5718187120029812\n",
      "Iteration 70, Loss: 0.5380242202642829\n",
      "Iteration 71, Loss: 0.5062269967452033\n",
      "Iteration 72, Loss: 0.4763089781884024\n",
      "Iteration 73, Loss: 0.4481591180173807\n",
      "Iteration 74, Loss: 0.42167291418136477\n",
      "Iteration 75, Loss: 0.3967520449790852\n",
      "Iteration 76, Loss: 0.3733039992368791\n",
      "Iteration 77, Loss: 0.3512417316144445\n",
      "Iteration 78, Loss: 0.33048334753976116\n",
      "Iteration 79, Loss: 0.31095177724411444\n",
      "Iteration 80, Loss: 0.2925745286179104\n",
      "Iteration 81, Loss: 0.2752833763568879\n",
      "Iteration 82, Loss: 0.25901412505149535\n",
      "Iteration 83, Loss: 0.2437063914735247\n",
      "Iteration 84, Loss: 0.22930333977371198\n",
      "Iteration 85, Loss: 0.21575151284725816\n",
      "Iteration 86, Loss: 0.2030006012946216\n",
      "Iteration 87, Loss: 0.19100326852350488\n",
      "Iteration 88, Loss: 0.17971497196649536\n",
      "Iteration 89, Loss: 0.1690938194815031\n",
      "Iteration 90, Loss: 0.1591003719214838\n",
      "Iteration 91, Loss: 0.14969754273736763\n",
      "Iteration 92, Loss: 0.14085041966208015\n",
      "Iteration 93, Loss: 0.13252615564761738\n",
      "Iteration 94, Loss: 0.1246938532452423\n",
      "Iteration 95, Loss: 0.11732446503349986\n",
      "Iteration 96, Loss: 0.11039058885430607\n",
      "Iteration 97, Loss: 0.10386649785129919\n",
      "Iteration 98, Loss: 0.09772798570124883\n",
      "Iteration 99, Loss: 0.09195226348280558\n",
      "Iteration 100, Loss: 0.0865178816583512\n",
      "Iteration 101, Loss: 0.08140467291758889\n",
      "Iteration 102, Loss: 0.07659366262828358\n",
      "Iteration 103, Loss: 0.07206697005843195\n",
      "Iteration 104, Loss: 0.06780781192053903\n",
      "Iteration 105, Loss: 0.06380037696069592\n",
      "Iteration 106, Loss: 0.06002977345222309\n",
      "Iteration 107, Loss: 0.0564820075507719\n",
      "Iteration 108, Loss: 0.05314393144118542\n",
      "Iteration 109, Loss: 0.050003114234231524\n",
      "Iteration 110, Loss: 0.04704793686603195\n",
      "Iteration 111, Loss: 0.04426740148833972\n",
      "Iteration 112, Loss: 0.04165120020443161\n",
      "Iteration 113, Loss: 0.03918961375201954\n",
      "Iteration 114, Loss: 0.0368735034129829\n",
      "Iteration 115, Loss: 0.034694277992582755\n",
      "Iteration 116, Loss: 0.032643851730490094\n",
      "Iteration 117, Loss: 0.03071459534999028\n",
      "Iteration 118, Loss: 0.028899363239415818\n",
      "Iteration 119, Loss: 0.027191414181739672\n",
      "Iteration 120, Loss: 0.02558439994540113\n",
      "Iteration 121, Loss: 0.024072362337913877\n",
      "Iteration 122, Loss: 0.022649683089386127\n",
      "Iteration 123, Loss: 0.021311092099735786\n",
      "Iteration 124, Loss: 0.02005160424149179\n",
      "Iteration 125, Loss: 0.01886655505507656\n",
      "Iteration 126, Loss: 0.017751540667355833\n",
      "Iteration 127, Loss: 0.016702427744061103\n",
      "Iteration 128, Loss: 0.01571531497821091\n",
      "Iteration 129, Loss: 0.014786535770396103\n",
      "Iteration 130, Loss: 0.013912651762769943\n",
      "Iteration 131, Loss: 0.013090418519936803\n",
      "Iteration 132, Loss: 0.012316768931710837\n",
      "Iteration 133, Loss: 0.011588849600126475\n",
      "Iteration 134, Loss: 0.010903943586632107\n",
      "Iteration 135, Loss: 0.010259526183227799\n",
      "Iteration 136, Loss: 0.009653186757193668\n",
      "Iteration 137, Loss: 0.009082688171817357\n",
      "Iteration 138, Loss: 0.008545899068542421\n",
      "Iteration 139, Loss: 0.00804083320361364\n",
      "Iteration 140, Loss: 0.007565618804557518\n",
      "Iteration 141, Loss: 0.007118492429622391\n",
      "Iteration 142, Loss: 0.006697793120481266\n",
      "Iteration 143, Loss: 0.0063019473730584336\n",
      "Iteration 144, Loss: 0.005929501997799936\n",
      "Iteration 145, Loss: 0.005579070290327091\n",
      "Iteration 146, Loss: 0.005249347396309216\n",
      "Iteration 147, Loss: 0.004939114136252681\n",
      "Iteration 148, Loss: 0.004647215154254898\n",
      "Iteration 149, Loss: 0.00437256400626425\n",
      "Iteration 150, Loss: 0.004114139259196158\n",
      "Iteration 151, Loss: 0.0038709956233987848\n",
      "Iteration 152, Loss: 0.0036422222163822442\n",
      "Iteration 153, Loss: 0.0034269635873455254\n",
      "Iteration 154, Loss: 0.0032244300300798123\n",
      "Iteration 155, Loss: 0.003033866206344064\n",
      "Iteration 156, Loss: 0.0028545694817259646\n",
      "Iteration 157, Loss: 0.0026858615040063873\n",
      "Iteration 158, Loss: 0.002527124440860861\n",
      "Iteration 159, Loss: 0.002377772426750458\n",
      "Iteration 160, Loss: 0.0022372501846465924\n",
      "Iteration 161, Loss: 0.002105026221950533\n",
      "Iteration 162, Loss: 0.0019806188966821317\n",
      "Iteration 163, Loss: 0.001863566163059441\n",
      "Iteration 164, Loss: 0.0017534302886055876\n",
      "Iteration 165, Loss: 0.0016498016244949178\n",
      "Iteration 166, Loss: 0.0015522968336895225\n",
      "Iteration 167, Loss: 0.0014605572212372654\n",
      "Iteration 168, Loss: 0.0013742383231737623\n",
      "Iteration 169, Loss: 0.0012930183418168389\n",
      "Iteration 170, Loss: 0.0012166008279945002\n",
      "Iteration 171, Loss: 0.0011447005613673634\n",
      "Iteration 172, Loss: 0.0010770513341135804\n",
      "Iteration 173, Loss: 0.001013397095948145\n",
      "Iteration 174, Loss: 0.0009535029620325111\n",
      "Iteration 175, Loss: 0.0008971534673183893\n",
      "Iteration 176, Loss: 0.0008441301639000644\n",
      "Iteration 177, Loss: 0.0007942435095401501\n",
      "Iteration 178, Loss: 0.0007473036766382048\n",
      "Iteration 179, Loss: 0.0007031374518087182\n",
      "Iteration 180, Loss: 0.0006615806720993984\n",
      "Iteration 181, Loss: 0.0006224808039162045\n",
      "Iteration 182, Loss: 0.0005856932236775429\n",
      "Iteration 183, Loss: 0.0005510780772974099\n",
      "Iteration 184, Loss: 0.0005185112321657664\n",
      "Iteration 185, Loss: 0.00048786689510026934\n",
      "Iteration 186, Loss: 0.00045903387854597503\n",
      "Iteration 187, Loss: 0.00043190420223823955\n",
      "Iteration 188, Loss: 0.000406378034681195\n",
      "Iteration 189, Loss: 0.00038236074013664776\n",
      "Iteration 190, Loss: 0.0003597649139507893\n",
      "Iteration 191, Loss: 0.0003385032407062897\n",
      "Iteration 192, Loss: 0.00031849748027454767\n",
      "Iteration 193, Loss: 0.00029967346881992795\n",
      "Iteration 194, Loss: 0.0002819629431575354\n",
      "Iteration 195, Loss: 0.0002652991815966534\n",
      "Iteration 196, Loss: 0.00024961903501571355\n",
      "Iteration 197, Loss: 0.00023486641976601822\n",
      "Iteration 198, Loss: 0.00022098629075865584\n",
      "Iteration 199, Loss: 0.00020792651372860275\n",
      "Iteration 200, Loss: 0.00019563773612380077\n",
      "Final weights: [-3.3990955  -0.20180899  0.80271349]\n",
      "Final bias: 0.6009044964517248\n"
     ]
    }
   ],
   "source": [
    "# Coding Back Propagation on a single neuron\n",
    "import numpy as np\n",
    "\n",
    "# Initial parameters\n",
    "inputs = np.array([1.0, -2.0, 3.0])\n",
    "weights = np.array([-3.0, -1.0, 2.0])\n",
    "bias = 1.0\n",
    "target_output = 0.0\n",
    "learning_rate = 0.001\n",
    "\n",
    "def ReLu(x):\n",
    "    return np.maximum(0, x)\n",
    "\n",
    "def ReLu_derivative(x):\n",
    "    return np.where(x > 0, 1.0, 0.0)\n",
    "\n",
    "for iteration in range(200):\n",
    "    # Forward Propagation\n",
    "    linear_output = np.dot(weights, inputs) + bias\n",
    "    output = ReLu(linear_output)\n",
    "    # Squared loss\n",
    "    loss = (output - target_output) ** 2\n",
    "\n",
    "    # Backward Propagation\n",
    "    \n",
    "    # Gradient of loss w.r.t. output\n",
    "    dloss_doutput = 2 * (output - target_output) # Loss = (yi−yi^)2  ⇒  ∂L/∂a​ = 2 * (yi−yi^)\n",
    "    # Derivative of ReLU\n",
    "    doutput_dlinear = ReLu_derivative(linear_output) # ∂a/∂z = {1: if z > 0, 0: otherwise}\n",
    "    \n",
    "    dlinear_dweights = inputs\n",
    "    dlinear_dbias = 1.0\n",
    "\n",
    "    # Combining ∂L/∂z\n",
    "    dloss_dlinear = dloss_doutput * doutput_dlinear\n",
    "    # Calculation ∂z/∂w\n",
    "    dloss_dweights = dloss_dlinear * dlinear_dweights\n",
    "    # Calculating ∂z/∂b\n",
    "    dloss_dbias = dloss_dlinear * dlinear_dbias\n",
    "\n",
    "    # Updating weights and biases\n",
    "    weights -= learning_rate * dloss_dweights\n",
    "    bias -= learning_rate * dloss_dbias\n",
    "\n",
    "    print(f\"Iteration {iteration + 1}, Loss: {loss}\")\n",
    "\n",
    "print(\"Final weights:\", weights)\n",
    "print(\"Final bias:\", bias)"
   ]
  },
  {
   "cell_type": "markdown",
   "id": "f3b5a1cf",
   "metadata": {},
   "source": [
    "#### **Backpropagation through an entire layer of Neurons**"
   ]
  },
  {
   "cell_type": "code",
   "execution_count": 33,
   "id": "b00d0f3a",
   "metadata": {},
   "outputs": [
    {
     "name": "stdout",
     "output_type": "stream",
     "text": [
      "Iteration 0, Loss: 466.56000000000006\n",
      "Iteration 20, Loss: 5.329595763793193\n",
      "Iteration 40, Loss: 0.41191524253483786\n",
      "Iteration 60, Loss: 0.03183621475376345\n",
      "Iteration 80, Loss: 0.002460565405431671\n",
      "Iteration 100, Loss: 0.0001901729121621426\n",
      "Iteration 120, Loss: 1.4698120139337557e-05\n",
      "Iteration 140, Loss: 1.1359948840900371e-06\n",
      "Iteration 160, Loss: 8.779778427447647e-08\n",
      "Iteration 180, Loss: 6.785903626216421e-09\n",
      "Final weights:\n",
      " [[-0.00698895 -0.0139779  -0.02096685 -0.0279558 ]\n",
      " [ 0.25975286  0.11950571 -0.02074143 -0.16098857]\n",
      " [ 0.53548461  0.27096922  0.00645383 -0.25806156]]\n",
      "Final biases:\n",
      " [-0.00698895 -0.04024714 -0.06451539]\n"
     ]
    }
   ],
   "source": [
    "# Initial parameters\n",
    "\n",
    "inputs = np.array([1, 2, 3, 4])\n",
    "weights = np.array([\n",
    "    [0.1, 0.2, 0.3, 0.4],\n",
    "    [0.5, 0.6, 0.7, 0.8],\n",
    "    [0.9, 1.0, 1.1, 1.2]\n",
    "])\n",
    "biases = np.array([0.1, 0.2, 0.3])\n",
    "learning_rate = 0.001\n",
    "\n",
    "# ReLu Activation Function and it's derivative\n",
    "def ReLu(x):\n",
    "    return np.maximum(0, x)\n",
    "\n",
    "def ReLu_derivative(x):\n",
    "    return np.where(x > 0, 1.0, 0.0)\n",
    "\n",
    "# Training Loop\n",
    "for iteration in range(200):\n",
    "    # Forward Propagation\n",
    "    z = np.dot(weights, inputs) + biases # Linear Transformation\n",
    "    a = ReLu(z)                          # ReLu Activation Function\n",
    "    y = np.sum(a)                        # Summation of activation function outputs\n",
    "\n",
    "    # Loss\n",
    "    loss = y ** 2 \n",
    "\n",
    "    # Backward Propagation -> ∂L/∂Wij = ∂L/∂y * ∂y/∂ai * ∂ai/∂zi * ∂zi/∂wij(inputs)\n",
    "    \n",
    "    # Gradient of loss with respect to output y\n",
    "    dL_dy =  2 * y \n",
    "\n",
    "    # Gradient of y with respect to a\n",
    "    dy_da = np.ones_like(a) \n",
    "\n",
    "    # Gradient of loss with respect to a (Partial derivative of dL_da)\n",
    "    dL_da = dL_dy * dy_da\n",
    "\n",
    "    # Gradient of a with respect to z (ReLu derivative)\n",
    "    da_dz = ReLu_derivative(z)\n",
    "\n",
    "    # Gradient of loss with respect to z (Partial derivative of dL_dz)\n",
    "    dL_dz = dL_da * da_dz\n",
    "\n",
    "    # Gradient of z with respect to weights and biases\n",
    "    dL_dW = np.outer(dL_dz, inputs)\n",
    "    dL_db = dL_dz # We don't need to calculate the gradient of loss with respect to biases in this case, but it's included for completeness \n",
    "\n",
    "    # Update weights and biases\n",
    "    weights -= learning_rate * dL_dW\n",
    "    biases -= learning_rate * dL_db\n",
    "\n",
    "    # Print the loss every 20 iterations\n",
    "    if iteration % 20 == 0:\n",
    "        print(f\"Iteration {iteration}, Loss: {loss}\")\n",
    "\n",
    "\n",
    "# Final weights and biases\n",
    "print(\"Final weights:\\n\", weights)\n",
    "print(\"Final biases:\\n\", biases)"
   ]
  },
  {
   "cell_type": "markdown",
   "id": "5635665e",
   "metadata": {},
   "source": [
    "#### **The Problem with Per-Neuron Gradient Calculation**\n",
    "\n",
    "In a **fully connected layer** of a neural network, each neuron has its own set of weights.  \n",
    "If we were to calculate the gradient for **each neuron individually**, we would:\n",
    "- Perform **many repetitive computations**.\n",
    "- Miss the chance to use **highly optimized matrix operations**.\n",
    "- Have slower training, especially for **large networks**.\n",
    "\n",
    "Instead of processing **one neuron at a time**, we calculate the gradients for the **entire layer in one step** using **matrix multiplication**."
   ]
  },
  {
   "cell_type": "markdown",
   "id": "59837975",
   "metadata": {},
   "source": [
    "We can fix the issue by calculating the gradient for the entire layer at once, which is more efficient and leverages matrix operations.\n",
    "\n",
    "- **Gradient Loss with respect to weights**: X^T * dL/dZ\n",
    "\n",
    "- **Gradient Loss with respect to biases**: sum(dL/dZ, axis = 0, keepdims = True)\n",
    "\n",
    "- **Gradient Loss with respect to inputs**: dL/dZ * W^T\n"
   ]
  },
  {
   "cell_type": "markdown",
   "id": "f15a8934",
   "metadata": {},
   "source": [
    "#### **Visual Representation of these Gradients**\n",
    "\n",
    "![Gradients of Loss with respect to weights](images/dWeights.png)\n",
    "\n",
    "![Gradients of Loss with respect to biases](images/dBiases.png)\n",
    "\n",
    "!![Gradients of Loss with respect to inputs](images/dInputs.png)"
   ]
  },
  {
   "cell_type": "markdown",
   "id": "3334c752",
   "metadata": {},
   "source": [
    "#### **Gradients of Loss with respect to weights**"
   ]
  },
  {
   "cell_type": "code",
   "execution_count": 35,
   "id": "4415a6e4",
   "metadata": {},
   "outputs": [
    {
     "name": "stdout",
     "output_type": "stream",
     "text": [
      "[[ 0.5  0.5  0.5]\n",
      " [20.1 20.1 20.1]\n",
      " [10.9 10.9 10.9]\n",
      " [ 4.1  4.1  4.1]]\n"
     ]
    }
   ],
   "source": [
    "# Passed-in gradient from the next layer for the purpose of this example we're going to use an array of an incremental gradient values\n",
    "dLoss_dZ = np.array([\n",
    " [1., 1., 1.],\n",
    " [2., 2., 2.],\n",
    " [3., 3., 3.]\n",
    "])\n",
    "\n",
    "# We sets(batches) of inputs\n",
    "inputs = np.array([\n",
    " [1, 2, 3, 2.5],\n",
    " [2., 5., -1., 2],\n",
    " [-1.5, 2.7, 3.3, -0.8]\n",
    "])\n",
    "\n",
    "dLoss_dW = np.dot(inputs.T, dLoss_dZ)\n",
    "print(dLoss_dW)\n",
    "\n"
   ]
  },
  {
   "cell_type": "markdown",
   "id": "388652c3",
   "metadata": {},
   "source": [
    "#### **Gradients of Loss with respect to biases**"
   ]
  },
  {
   "cell_type": "code",
   "execution_count": 37,
   "id": "80a63eef",
   "metadata": {},
   "outputs": [
    {
     "name": "stdout",
     "output_type": "stream",
     "text": [
      "[[6. 6. 6.]]\n"
     ]
    }
   ],
   "source": [
    "# Passed-in gradient from the next layer for the purpose of this example we're going to use an array of an incremental gradient values\n",
    "dLoss_dZ = np.array([\n",
    " [1., 1., 1.],\n",
    " [2., 2., 2.],\n",
    " [3., 3., 3.]\n",
    "])\n",
    "\n",
    "# One bias for each neuron, biases are the row vector with a shape (1, neurons)\n",
    "biases = np.array([[2, 3, 0.5]])\n",
    "\n",
    "# dBiases = sum values, do this over samples (first axis), keepdims \n",
    "dLoss_dB = np.sum(dLoss_dZ, axis = 0, keepdims = True)\n",
    "print(dLoss_dB)"
   ]
  },
  {
   "cell_type": "markdown",
   "id": "eeb7545f",
   "metadata": {},
   "source": [
    "#### **Gradients of Loss with respect to inputs**"
   ]
  },
  {
   "cell_type": "code",
   "execution_count": 39,
   "id": "07671a03",
   "metadata": {},
   "outputs": [
    {
     "name": "stdout",
     "output_type": "stream",
     "text": [
      "[[ 0.44 -0.38 -0.07  1.37]\n",
      " [ 0.88 -0.76 -0.14  2.74]\n",
      " [ 1.32 -1.14 -0.21  4.11]]\n"
     ]
    }
   ],
   "source": [
    "# Passed-in gradient from the next layer for the purpose of this example we're going to use an array of an incremental gradient values\n",
    "dLoss_dZ = np.array([\n",
    " [1., 1., 1.],\n",
    " [2., 2., 2.],\n",
    " [3., 3., 3.]\n",
    "])\n",
    "\n",
    "# We have 3 sets of weights - one set for each neuron, we have 4 inputs, thus 4 weights, recall that we keep weights transposed\n",
    "weights = np.array([\n",
    " [0.2, 0.8, -0.5, 1],\n",
    " [0.5, -0.91, 0.26, -0.5],\n",
    " [-0.26, -0.27, 0.17, 0.87]]).T\n",
    "\n",
    "# Sum up weights of the given input and multiply by the passed-in gradient for this neuron\n",
    "dLoss_dX = np.dot(dLoss_dZ, weights.T)\n",
    "print(dLoss_dX)"
   ]
  },
  {
   "cell_type": "markdown",
   "id": "97149e4e",
   "metadata": {},
   "source": [
    "#### **Adding Backpropagation in the Dense Layer**"
   ]
  },
  {
   "cell_type": "code",
   "execution_count": null,
   "id": "e2e43bc2",
   "metadata": {},
   "outputs": [],
   "source": [
    "class DenseLayer: # Hidden Layers \n",
    "    # Layer initialization\n",
    "    def __init__(self, n_inputs, n_neurons):\n",
    "        # Initializing weights and biases\n",
    "        self.weights = 0.01 * np.random.randn(n_inputs, n_neurons) # 0.01 is a small value to prevent large initial weights\n",
    "        self.biases = np.zeros((1, n_neurons))\n",
    "\n",
    "        self.inputs = None      # will hold the input batch\n",
    "        self.output = None      # forward output\n",
    "        self.dweights = None    # gradient w.r.t. weights\n",
    "        self.dbiases = None     # gradient w.r.t. biases\n",
    "        self.dinputs = None     # gradient w.r.t. inputs\n",
    "   \n",
    "    # Forward Propagation\n",
    "    def forward(self, inputs):\n",
    "        # stores inputs for backward pass\n",
    "        self.inputs = inputs \n",
    "        # Calculate output values from inputs, weights and biases\n",
    "        self.output = np.dot(inputs, self.weights) + self.biases\n",
    "        return self.output\n",
    "    \n",
    "    # Backward Propagation\n",
    "    # dvalues is dL/dZ coming from the next layer\n",
    "    def backward(self, dvalues):\n",
    "        # gradient w.r.t. weights:\n",
    "        self.dweights = np.dot(self.inputs.T, dvalues)\n",
    "\n",
    "        # gradient w.r.t. biases:\n",
    "        self.biases = np.sum(dvalues, axis = 0, keepdims = True)\n",
    "\n",
    "        # gradient w.r.t. inputs (to pass to previous layer)\n",
    "        self.dinputs = np.dot(dvalues, self.weights.T)\n",
    "\n",
    "        return self.dinputs"
   ]
  }
 ],
 "metadata": {
  "kernelspec": {
   "display_name": "base",
   "language": "python",
   "name": "python3"
  },
  "language_info": {
   "codemirror_mode": {
    "name": "ipython",
    "version": 3
   },
   "file_extension": ".py",
   "mimetype": "text/x-python",
   "name": "python",
   "nbconvert_exporter": "python",
   "pygments_lexer": "ipython3",
   "version": "3.13.5"
  }
 },
 "nbformat": 4,
 "nbformat_minor": 5
}
