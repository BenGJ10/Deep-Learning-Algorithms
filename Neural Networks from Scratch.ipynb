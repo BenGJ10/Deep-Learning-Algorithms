{
 "cells": [
  {
   "cell_type": "markdown",
   "id": "d3dff4e4",
   "metadata": {},
   "source": [
    "## Implementing Neural Networks from Scratch"
   ]
  },
  {
   "cell_type": "markdown",
   "id": "1b25d003",
   "metadata": {},
   "source": [
    "### Part 1: Coding Neurons and Layers"
   ]
  },
  {
   "cell_type": "code",
   "execution_count": 1,
   "id": "8c4db1ef",
   "metadata": {},
   "outputs": [
    {
     "name": "stdout",
     "output_type": "stream",
     "text": [
      "2.3\n"
     ]
    }
   ],
   "source": [
    "# Coding our first neuron with 3 inputs\n",
    "\n",
    "inputs = [1, 2, 3]\n",
    "weights = [0.2, 0.8, -0.5]\n",
    "bias = 2\n",
    "\n",
    "output = (inputs[0] * weights[0] + inputs[1] * weights[1] + inputs[2] * weights[2] + bias)\n",
    "\n",
    "print(output)"
   ]
  },
  {
   "cell_type": "code",
   "execution_count": 2,
   "id": "5dc9965d",
   "metadata": {},
   "outputs": [
    {
     "name": "stdout",
     "output_type": "stream",
     "text": [
      "4.8\n"
     ]
    }
   ],
   "source": [
    "# Coding our second neuron with 4 inputs\n",
    "\n",
    "inputs = [1.0, 2.0, 3.0, 2.5]\n",
    "weights = [0.2, 0.8, -0.5, 1.0]\n",
    "bias = 2\n",
    "\n",
    "output = (\n",
    "    inputs[0] * weights[0] + inputs[1] * weights[1] +\n",
    "    inputs[2] * weights[2] + inputs[3] * weights[3] + bias\n",
    ")\n",
    "\n",
    "print(output)"
   ]
  },
  {
   "cell_type": "code",
   "execution_count": 3,
   "id": "c50df45e",
   "metadata": {},
   "outputs": [
    {
     "name": "stdout",
     "output_type": "stream",
     "text": [
      "[4.8, 1.21, 2.385]\n"
     ]
    }
   ],
   "source": [
    "# Coding our first layer \n",
    "\n",
    "inputs = [1, 2, 3, 2.5]\n",
    "weights = [[0.2, 0.8, -0.5, 1],\n",
    "           [0.5, -0.91, 0.26, -0.5],\n",
    "           [-0.26, -0.27, 0.17, 0.87]]\n",
    "biases = [2, 3, 0.5]\n",
    "\n",
    "weights1 = weights[0]   # List of all weights associated with 1st Neuron: W11, W12, W13, W14\n",
    "weights2 = weights[1]   # List of all weights associated with 2nd Neuron: W21, W22, W23, W24\n",
    "weights3 = weights[2]   # List of all weights associated with 3rd Neuron: W31, W32, W33, W34\n",
    "\n",
    "output = [\n",
    "    # Neuron 1\n",
    "    inputs[0] * weights1[0] + \n",
    "    inputs[1] * weights1[1] +\n",
    "    inputs[2] * weights1[2] +\n",
    "    inputs[3] * weights1[3] + biases[0],\n",
    "\n",
    "    # Neuron 2\n",
    "    inputs[0] * weights2[0] + \n",
    "    inputs[1] * weights2[1] +\n",
    "    inputs[2] * weights2[2] +\n",
    "    inputs[3] * weights2[3] + biases[1],\n",
    "\n",
    "    # Neuron 3\n",
    "    inputs[0] * weights3[0] + \n",
    "    inputs[1] * weights3[1] +\n",
    "    inputs[2] * weights3[2] +\n",
    "    inputs[3] * weights3[3] + biases[2],\n",
    "]\n",
    "\n",
    "print(output)"
   ]
  },
  {
   "cell_type": "markdown",
   "id": "80aa1337",
   "metadata": {},
   "source": [
    "```\n",
    "output = summation of (inputs * weights) + bias\n",
    "\n",
    "output = (w1x1 + w2x2 + w3x3 + b)\n",
    "```"
   ]
  },
  {
   "cell_type": "code",
   "execution_count": 4,
   "id": "0321da07",
   "metadata": {},
   "outputs": [
    {
     "name": "stdout",
     "output_type": "stream",
     "text": [
      "[4.8, 1.21, 2.385]\n"
     ]
    }
   ],
   "source": [
    "# Using loops for better and easier coding\n",
    "\n",
    "inputs = [1, 2, 3, 2.5]\n",
    "weights = [[0.2, 0.8, -0.5, 1],\n",
    "           [0.5, -0.91, 0.26, -0.5],\n",
    "           [-0.26, -0.27, 0.17, 0.87]]\n",
    "biases = [2, 3, 0.5]\n",
    "\n",
    "layer_outputs = [] # output for current layer\n",
    "\n",
    "for neuron_weights, neuron_bias in zip(weights, biases):\n",
    "    neuron_output = 0 # Placeholder output variable\n",
    "    \n",
    "    for n_input, weight in zip(inputs, neuron_weights):\n",
    "        # Multiply this input by associated weight and add to the neuron's output variable\n",
    "        neuron_output += n_input * weight\n",
    "    neuron_output += neuron_bias # Adding bias \n",
    "    \n",
    "    layer_outputs.append(neuron_output)\n",
    "\n",
    "print(layer_outputs)\n",
    "\n"
   ]
  },
  {
   "cell_type": "markdown",
   "id": "7721aae0",
   "metadata": {},
   "source": [
    "### Part 2: Using Numpy to Code Neurons and Layers"
   ]
  },
  {
   "cell_type": "markdown",
   "id": "77ed54b0",
   "metadata": {},
   "source": [
    "####  Rules of Matrix Multiplication:\n",
    "1. The **number of columns** in the first matrix must equal the **number of rows** in the second matrix.  \n",
    "   - If `A` is (m × n) and `B` is (n × p), then `A × B` is defined.\n",
    "\n",
    "2. The result will be a matrix of size **(m × p)**.\n",
    "\n",
    "3. Each element in the result is computed by the **dot product** of a row from `A` and a column from `B`.\n"
   ]
  },
  {
   "cell_type": "markdown",
   "id": "a419d879",
   "metadata": {},
   "source": [
    "#### Rules of Dot Products\n",
    "\n",
    "1. The dot product between a vector A and vector B,    `np.dot(A, B) == np.dot(B, A)`\n",
    "\n",
    "2. The dot product between a vector A and matrix B,    `np.dot(A, B) != np.dot(B, A)`\n",
    "\n",
    "3. The dot product between a matrix A and matrix B,    `np.dot(A, B) == A X B`"
   ]
  },
  {
   "cell_type": "code",
   "execution_count": 3,
   "id": "d5d7eee5",
   "metadata": {},
   "outputs": [
    {
     "name": "stdout",
     "output_type": "stream",
     "text": [
      "4.8\n"
     ]
    }
   ],
   "source": [
    "# Coding a neuron using NumPy\n",
    "\n",
    "import numpy as np\n",
    "\n",
    "inputs = [1.0, 2.0, 3.0, 2.5]\n",
    "weights = [0.2, 0.8, -0.5, 1.0]\n",
    "bias = 2.0\n",
    "\n",
    "outputs = np.dot(weights, inputs) + bias\n",
    "print(outputs)"
   ]
  },
  {
   "cell_type": "code",
   "execution_count": 4,
   "id": "03df150e",
   "metadata": {},
   "outputs": [
    {
     "name": "stdout",
     "output_type": "stream",
     "text": [
      "[4.8   1.21  2.385]\n"
     ]
    }
   ],
   "source": [
    "# Coding layers using NumPy\n",
    "\n",
    "inputs = [1.0, 2.0, 3.0, 2.5]\n",
    "weights = [\n",
    "    [0.2, 0.8, -0.5, 1],\n",
    "    [0.5, -0.91, 0.26, -0.5],\n",
    "    [-0.26, -0.27, 0.17, 0.87]]\n",
    "biases = [2.0, 3.0, 0.5]\n",
    "\n",
    "# A dot product of a matrix and a vector results in a list of dot products. \n",
    "# The np.dot() method treats the matrix as a list of vectors and performs a dot product of each of those vectors with the other vector\n",
    "\n",
    "layer_outputs = np.dot(weights, inputs) + biases\n",
    "print(layer_outputs)"
   ]
  },
  {
   "cell_type": "code",
   "execution_count": 12,
   "id": "53d5b9b3",
   "metadata": {},
   "outputs": [
    {
     "name": "stdout",
     "output_type": "stream",
     "text": [
      "[[ 4.8    1.21   2.385]\n",
      " [ 8.9   -1.81   0.2  ]\n",
      " [ 1.41   1.051  0.026]]\n"
     ]
    }
   ],
   "source": [
    "# Coding layers of neurons and batch of data using NumPy\n",
    "\n",
    "inputs = [[1.0, 2.0, 3.0, 2.5], \n",
    "          [2.0, 5.0, -1.0, 2.0], \n",
    "          [-1.5, 2.7, 3.3, -0.8]]\n",
    "\n",
    "weights = [[0.2, 0.8, -0.5, 1],\n",
    "           [0.5, -0.91, 0.26, -0.5],\n",
    "           [-0.26, -0.27, 0.17, 0.87]]\n",
    "\n",
    "biases = [2.0, 3.0, 0.5]\n",
    "\n",
    "# We cannot tranpose lists in Python, so we have to convert the lists into an array first.\n",
    "\n",
    "outputs = np.dot(inputs, np.array(weights).T) + biases\n",
    "print(outputs)"
   ]
  },
  {
   "cell_type": "code",
   "execution_count": 14,
   "id": "406cc4be",
   "metadata": {},
   "outputs": [
    {
     "name": "stdout",
     "output_type": "stream",
     "text": [
      "[[ 0.5031  -1.04185 -2.03875]\n",
      " [ 0.2434  -2.7332  -5.7633 ]\n",
      " [-0.99314  1.41254 -0.35655]]\n"
     ]
    }
   ],
   "source": [
    "# 2 layers and batch of data using NumPy\n",
    "\n",
    "inputs = [[1, 2, 3, 2.5],\n",
    "          [2., 5., -1., 2],\n",
    "          [-1.5, 2.7, 3.3, -0.8]]\n",
    "\n",
    "weights1 = [[0.2, 0.8, -0.5, 1],\n",
    "            [0.5, -0.91, 0.26, -0.5],\n",
    "            [-0.26, -0.27, 0.17, 0.87]]\n",
    "\n",
    "biases1 = [2, 3, 0.5]\n",
    "\n",
    "weights2 = [[0.1, -0.14, 0.5],\n",
    "            [-0.5, 0.12, -0.33],\n",
    "            [-0.44, 0.73, -0.13]]\n",
    "\n",
    "biases2 = [-1, 2, -0.5]\n",
    "\n",
    "# Calculating the output of the first layer\n",
    "\n",
    "layer1_outputs = np.dot(inputs, np.array(weights1).T) + biases1\n",
    "\n",
    "# Calculating the output of the second layer\n",
    "\n",
    "layer2_outputs = np.dot(layer1_outputs, np.array(weights2).T) + biases2\n",
    "\n",
    "print(layer2_outputs)"
   ]
  },
  {
   "cell_type": "code",
   "execution_count": null,
   "id": "96d54341",
   "metadata": {},
   "outputs": [],
   "source": []
  }
 ],
 "metadata": {
  "kernelspec": {
   "display_name": "base",
   "language": "python",
   "name": "python3"
  },
  "language_info": {
   "codemirror_mode": {
    "name": "ipython",
    "version": 3
   },
   "file_extension": ".py",
   "mimetype": "text/x-python",
   "name": "python",
   "nbconvert_exporter": "python",
   "pygments_lexer": "ipython3",
   "version": "3.13.5"
  }
 },
 "nbformat": 4,
 "nbformat_minor": 5
}
